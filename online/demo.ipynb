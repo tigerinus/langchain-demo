{
 "cells": [
  {
   "attachments": {},
   "cell_type": "markdown",
   "metadata": {},
   "source": [
    "# CasaOS Spotlight"
   ]
  },
  {
   "cell_type": "code",
   "execution_count": 12,
   "metadata": {},
   "outputs": [
    {
     "name": "stdout",
     "output_type": "stream",
     "text": [
      "{'dimension': 1536,\n",
      " 'index_fullness': 0.0,\n",
      " 'namespaces': {'': {'vector_count': 61}},\n",
      " 'total_vector_count': 61}\n"
     ]
    },
    {
     "data": {
      "application/vnd.jupyter.widget-view+json": {
       "model_id": "aa1b56c59fb948148e214bb78b980919",
       "version_major": 2,
       "version_minor": 0
      },
      "text/plain": [
       "Text(value='', continuous_update=False, layout=Layout(width='62%'), placeholder='What do you want to know?', s…"
      ]
     },
     "metadata": {},
     "output_type": "display_data"
    },
    {
     "data": {
      "application/vnd.jupyter.widget-view+json": {
       "model_id": "34c9c60ac3f44a5781cf7b17e98b99e6",
       "version_major": 2,
       "version_minor": 0
      },
      "text/plain": [
       "Label(value='Summary', style=LabelStyle(font_size='24px'))"
      ]
     },
     "metadata": {},
     "output_type": "display_data"
    },
    {
     "data": {
      "application/vnd.jupyter.widget-view+json": {
       "model_id": "78c14459d956402bb090ed673e518900",
       "version_major": 2,
       "version_minor": 0
      },
      "text/plain": [
       "Output()"
      ]
     },
     "metadata": {},
     "output_type": "display_data"
    },
    {
     "data": {
      "application/vnd.jupyter.widget-view+json": {
       "model_id": "6433d4c20d4740c3a520c3820c8b8e8a",
       "version_major": 2,
       "version_minor": 0
      },
      "text/plain": [
       "Label(value='Search results', style=LabelStyle(font_size='24px'))"
      ]
     },
     "metadata": {},
     "output_type": "display_data"
    },
    {
     "data": {
      "application/vnd.jupyter.widget-view+json": {
       "model_id": "ffe8f7bf59124578b21890b121811b34",
       "version_major": 2,
       "version_minor": 0
      },
      "text/plain": [
       "Output()"
      ]
     },
     "metadata": {},
     "output_type": "display_data"
    },
    {
     "data": {
      "application/vnd.jupyter.widget-view+json": {
       "model_id": "df6f0abbf35b47eab5b11d9b18c11eb6",
       "version_major": 2,
       "version_minor": 0
      },
      "text/plain": [
       "Output()"
      ]
     },
     "metadata": {},
     "output_type": "display_data"
    }
   ],
   "source": [
    "# imports\n",
    "\n",
    "from dotenv import load_dotenv\n",
    "from IPython.display import display\n",
    "from langchain.chains import RetrievalQA\n",
    "from langchain.embeddings import OpenAIEmbeddings\n",
    "from langchain.llms import OpenAI\n",
    "from langchain.vectorstores import Pinecone\n",
    "import ipywidgets as widgets\n",
    "import os\n",
    "import pinecone\n",
    "\n",
    "load_dotenv()\n",
    "\n",
    "pinecone.init(api_key=os.environ[\"PINECONE_API_KEY\"], environment=os.environ[\"PINECONE_ENV\"])\n",
    "\n",
    "index_name = \"langchain-demo\"\n",
    "index = pinecone.Index(index_name=index_name)\n",
    "\n",
    "embeddings = OpenAIEmbeddings()\n",
    "\n",
    "docsearch = Pinecone.from_existing_index(index_name=index_name, embedding=embeddings)\n",
    "\n",
    "qa = RetrievalQA.from_chain_type(\n",
    "    llm=OpenAI(), \n",
    "    chain_type=\"stuff\", \n",
    "    retriever=docsearch.as_retriever(),\n",
    "    return_source_documents=True\n",
    ")\n",
    "\n",
    "status_text = widgets.Output()\n",
    "\n",
    "summary_text = widgets.Output(\n",
    "    style={'description_width': 'initial', 'font_size': '20px'}\n",
    ")\n",
    "\n",
    "search_result_text = widgets.Output(\n",
    "    style={'description_width': 'initial', 'font_size': '20px'}\n",
    ")\n",
    "\n",
    "\n",
    "def demo(query):\n",
    "    summary_text.clear_output(wait=False)\n",
    "    search_result_text.clear_output(wait=False)\n",
    "\n",
    "    with status_text:\n",
    "        print(\"searching...\")\n",
    "\n",
    "    result = qa(\n",
    "        {\n",
    "            \"query\": query['new']\n",
    "        }\n",
    "    )\n",
    "\n",
    "    with summary_text:\n",
    "        if result[\"result\"]:\n",
    "            print(result[\"result\"])\n",
    "        else:\n",
    "            print(\"No summary available.\")\n",
    "\n",
    "    with search_result_text:\n",
    "        for doc in docsearch.similarity_search(query=query['new']):\n",
    "            print(doc.metadata)\n",
    "\n",
    "\n",
    "    status_text.clear_output(wait=False)\n",
    "\n",
    "\n",
    "input_text = widgets.Text(\n",
    "    continuous_update=False, \n",
    "    layout=widgets.Layout(width='62%'), placeholder='What do you want to know?',\n",
    "    style={'description_width': 'initial', 'font_size': '16px'}\n",
    ")\n",
    "\n",
    "# Display widget\n",
    "display(\n",
    "    input_text, \n",
    "    widgets.Label(value=\"Summary\", style={'font_size': '16px'}), \n",
    "    summary_text,\n",
    "    widgets.Label(value=\"Search results\", style={'font_size': '16px'}),\n",
    "    search_result_text,\n",
    "    status_text,\n",
    "    )\n",
    "\n",
    "input_text.observe(demo, names='value')"
   ]
  }
 ],
 "metadata": {
  "kernelspec": {
   "display_name": "Python 3 (ipykernel)",
   "language": "python",
   "name": "python3"
  },
  "language_info": {
   "codemirror_mode": {
    "name": "ipython",
    "version": 3
   },
   "file_extension": ".py",
   "mimetype": "text/x-python",
   "name": "python",
   "nbconvert_exporter": "python",
   "pygments_lexer": "ipython3",
   "version": "3.11.4"
  }
 },
 "nbformat": 4,
 "nbformat_minor": 2
}
