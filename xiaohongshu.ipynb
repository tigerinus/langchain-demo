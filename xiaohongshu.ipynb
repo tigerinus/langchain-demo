{
 "cells": [
  {
   "attachments": {},
   "cell_type": "markdown",
   "metadata": {},
   "source": [
    "# requirements"
   ]
  },
  {
   "cell_type": "code",
   "execution_count": 11,
   "metadata": {
    "vscode": {
     "languageId": "shellscript"
    }
   },
   "outputs": [
    {
     "name": "stdout",
     "output_type": "stream",
     "text": [
      "Requirement already satisfied: openai in ./venv/lib/python3.11/site-packages (0.27.5)\n",
      "Requirement already satisfied: requests>=2.20 in ./venv/lib/python3.11/site-packages (from openai) (2.29.0)\n",
      "Requirement already satisfied: tqdm in ./venv/lib/python3.11/site-packages (from openai) (4.65.0)\n",
      "Requirement already satisfied: aiohttp in ./venv/lib/python3.11/site-packages (from openai) (3.8.4)\n",
      "Requirement already satisfied: charset-normalizer<4,>=2 in ./venv/lib/python3.11/site-packages (from requests>=2.20->openai) (3.1.0)\n",
      "Requirement already satisfied: idna<4,>=2.5 in ./venv/lib/python3.11/site-packages (from requests>=2.20->openai) (3.4)\n",
      "Requirement already satisfied: urllib3<1.27,>=1.21.1 in ./venv/lib/python3.11/site-packages (from requests>=2.20->openai) (1.26.15)\n",
      "Requirement already satisfied: certifi>=2017.4.17 in ./venv/lib/python3.11/site-packages (from requests>=2.20->openai) (2022.12.7)\n",
      "Requirement already satisfied: attrs>=17.3.0 in ./venv/lib/python3.11/site-packages (from aiohttp->openai) (23.1.0)\n",
      "Requirement already satisfied: multidict<7.0,>=4.5 in ./venv/lib/python3.11/site-packages (from aiohttp->openai) (6.0.4)\n",
      "Requirement already satisfied: async-timeout<5.0,>=4.0.0a3 in ./venv/lib/python3.11/site-packages (from aiohttp->openai) (4.0.2)\n",
      "Requirement already satisfied: yarl<2.0,>=1.0 in ./venv/lib/python3.11/site-packages (from aiohttp->openai) (1.9.2)\n",
      "Requirement already satisfied: frozenlist>=1.1.1 in ./venv/lib/python3.11/site-packages (from aiohttp->openai) (1.3.3)\n",
      "Requirement already satisfied: aiosignal>=1.1.2 in ./venv/lib/python3.11/site-packages (from aiohttp->openai) (1.3.1)\n",
      "Requirement already satisfied: langchain in ./venv/lib/python3.11/site-packages (0.0.154)\n",
      "Requirement already satisfied: PyYAML>=5.4.1 in ./venv/lib/python3.11/site-packages (from langchain) (6.0)\n",
      "Requirement already satisfied: SQLAlchemy<3,>1.4 in ./venv/lib/python3.11/site-packages (from langchain) (2.0.12)\n",
      "Requirement already satisfied: aiohttp<4.0.0,>=3.8.3 in ./venv/lib/python3.11/site-packages (from langchain) (3.8.4)\n",
      "Requirement already satisfied: dataclasses-json<0.6.0,>=0.5.7 in ./venv/lib/python3.11/site-packages (from langchain) (0.5.7)\n",
      "Requirement already satisfied: numexpr<3.0.0,>=2.8.4 in ./venv/lib/python3.11/site-packages (from langchain) (2.8.4)\n",
      "Requirement already satisfied: numpy<2,>=1 in ./venv/lib/python3.11/site-packages (from langchain) (1.24.3)\n",
      "Requirement already satisfied: openapi-schema-pydantic<2.0,>=1.2 in ./venv/lib/python3.11/site-packages (from langchain) (1.2.4)\n",
      "Requirement already satisfied: pydantic<2,>=1 in ./venv/lib/python3.11/site-packages (from langchain) (1.10.7)\n",
      "Requirement already satisfied: requests<3,>=2 in ./venv/lib/python3.11/site-packages (from langchain) (2.29.0)\n",
      "Requirement already satisfied: tenacity<9.0.0,>=8.1.0 in ./venv/lib/python3.11/site-packages (from langchain) (8.2.2)\n",
      "Requirement already satisfied: tqdm>=4.48.0 in ./venv/lib/python3.11/site-packages (from langchain) (4.65.0)\n",
      "Requirement already satisfied: attrs>=17.3.0 in ./venv/lib/python3.11/site-packages (from aiohttp<4.0.0,>=3.8.3->langchain) (23.1.0)\n",
      "Requirement already satisfied: charset-normalizer<4.0,>=2.0 in ./venv/lib/python3.11/site-packages (from aiohttp<4.0.0,>=3.8.3->langchain) (3.1.0)\n",
      "Requirement already satisfied: multidict<7.0,>=4.5 in ./venv/lib/python3.11/site-packages (from aiohttp<4.0.0,>=3.8.3->langchain) (6.0.4)\n",
      "Requirement already satisfied: async-timeout<5.0,>=4.0.0a3 in ./venv/lib/python3.11/site-packages (from aiohttp<4.0.0,>=3.8.3->langchain) (4.0.2)\n",
      "Requirement already satisfied: yarl<2.0,>=1.0 in ./venv/lib/python3.11/site-packages (from aiohttp<4.0.0,>=3.8.3->langchain) (1.9.2)\n",
      "Requirement already satisfied: frozenlist>=1.1.1 in ./venv/lib/python3.11/site-packages (from aiohttp<4.0.0,>=3.8.3->langchain) (1.3.3)\n",
      "Requirement already satisfied: aiosignal>=1.1.2 in ./venv/lib/python3.11/site-packages (from aiohttp<4.0.0,>=3.8.3->langchain) (1.3.1)\n",
      "Requirement already satisfied: marshmallow<4.0.0,>=3.3.0 in ./venv/lib/python3.11/site-packages (from dataclasses-json<0.6.0,>=0.5.7->langchain) (3.19.0)\n",
      "Requirement already satisfied: marshmallow-enum<2.0.0,>=1.5.1 in ./venv/lib/python3.11/site-packages (from dataclasses-json<0.6.0,>=0.5.7->langchain) (1.5.1)\n",
      "Requirement already satisfied: typing-inspect>=0.4.0 in ./venv/lib/python3.11/site-packages (from dataclasses-json<0.6.0,>=0.5.7->langchain) (0.8.0)\n",
      "Requirement already satisfied: typing-extensions>=4.2.0 in ./venv/lib/python3.11/site-packages (from pydantic<2,>=1->langchain) (4.5.0)\n",
      "Requirement already satisfied: idna<4,>=2.5 in ./venv/lib/python3.11/site-packages (from requests<3,>=2->langchain) (3.4)\n",
      "Requirement already satisfied: urllib3<1.27,>=1.21.1 in ./venv/lib/python3.11/site-packages (from requests<3,>=2->langchain) (1.26.15)\n",
      "Requirement already satisfied: certifi>=2017.4.17 in ./venv/lib/python3.11/site-packages (from requests<3,>=2->langchain) (2022.12.7)\n",
      "Requirement already satisfied: greenlet!=0.4.17 in ./venv/lib/python3.11/site-packages (from SQLAlchemy<3,>1.4->langchain) (2.0.2)\n",
      "Requirement already satisfied: packaging>=17.0 in ./venv/lib/python3.11/site-packages (from marshmallow<4.0.0,>=3.3.0->dataclasses-json<0.6.0,>=0.5.7->langchain) (23.1)\n",
      "Requirement already satisfied: mypy-extensions>=0.3.0 in ./venv/lib/python3.11/site-packages (from typing-inspect>=0.4.0->dataclasses-json<0.6.0,>=0.5.7->langchain) (1.0.0)\n",
      "Requirement already satisfied: requests in ./venv/lib/python3.11/site-packages (2.29.0)\n",
      "Requirement already satisfied: charset-normalizer<4,>=2 in ./venv/lib/python3.11/site-packages (from requests) (3.1.0)\n",
      "Requirement already satisfied: idna<4,>=2.5 in ./venv/lib/python3.11/site-packages (from requests) (3.4)\n",
      "Requirement already satisfied: urllib3<1.27,>=1.21.1 in ./venv/lib/python3.11/site-packages (from requests) (1.26.15)\n",
      "Requirement already satisfied: certifi>=2017.4.17 in ./venv/lib/python3.11/site-packages (from requests) (2022.12.7)\n",
      "Collecting redis\n",
      "  Downloading redis-4.5.4-py3-none-any.whl (238 kB)\n",
      "\u001b[2K     \u001b[90m━━━━━━━━━━━━━━━━━━━━━━━━━━━━━━━━━━━━━━━\u001b[0m \u001b[32m238.9/238.9 kB\u001b[0m \u001b[31m1.0 MB/s\u001b[0m eta \u001b[36m0:00:00\u001b[0m00:01\u001b[0m00:01\u001b[0m\n",
      "\u001b[?25hRequirement already satisfied: async-timeout>=4.0.2 in ./venv/lib/python3.11/site-packages (from redis) (4.0.2)\n",
      "Installing collected packages: redis\n",
      "Successfully installed redis-4.5.4\n"
     ]
    }
   ],
   "source": [
    "%%sh\n",
    "pip install --upgrade openai\n",
    "pip install --upgrade langchain\n",
    "pip install --upgrade requests\n",
    "pip install redis"
   ]
  },
  {
   "attachments": {},
   "cell_type": "markdown",
   "metadata": {},
   "source": [
    "# environment"
   ]
  },
  {
   "cell_type": "code",
   "execution_count": 9,
   "metadata": {
    "vscode": {
     "languageId": "shellscript"
    }
   },
   "outputs": [
    {
     "name": "stderr",
     "output_type": "stream",
     "text": [
      "Unable to find image 'redis/redis-stack:latest' locally\n",
      "latest: Pulling from redis/redis-stack\n",
      "ca1778b69356: Pulling fs layer\n",
      "518777ca318a: Pulling fs layer\n",
      "4f4fb700ef54: Pulling fs layer\n",
      "f3214da40ad6: Pulling fs layer\n",
      "4cf419baf0fd: Pulling fs layer\n",
      "6f8031a5cee9: Pulling fs layer\n",
      "33f7730dff5d: Pulling fs layer\n",
      "ae439f3bd24e: Pulling fs layer\n",
      "0051d2b6e334: Pulling fs layer\n",
      "1bb975664fd4: Pulling fs layer\n",
      "6b38923421ac: Pulling fs layer\n",
      "6dece0c7252b: Pulling fs layer\n",
      "e3de16b18118: Pulling fs layer\n",
      "8222ec87331e: Pulling fs layer\n",
      "8f6dbd1e47fa: Pulling fs layer\n",
      "24fdcd115c41: Pulling fs layer\n",
      "4cf419baf0fd: Waiting\n",
      "6f8031a5cee9: Waiting\n",
      "33f7730dff5d: Waiting\n",
      "f3214da40ad6: Waiting\n",
      "ae439f3bd24e: Waiting\n",
      "6b38923421ac: Waiting\n",
      "0051d2b6e334: Waiting\n",
      "1bb975664fd4: Waiting\n",
      "e3de16b18118: Waiting\n",
      "8222ec87331e: Waiting\n",
      "24fdcd115c41: Waiting\n",
      "8f6dbd1e47fa: Waiting\n",
      "4f4fb700ef54: Verifying Checksum\n",
      "4f4fb700ef54: Download complete\n",
      "f3214da40ad6: Download complete\n",
      "4cf419baf0fd: Verifying Checksum\n",
      "4cf419baf0fd: Download complete\n",
      "ca1778b69356: Verifying Checksum\n",
      "ca1778b69356: Download complete\n",
      "33f7730dff5d: Verifying Checksum\n",
      "33f7730dff5d: Download complete\n",
      "ae439f3bd24e: Verifying Checksum\n",
      "ae439f3bd24e: Download complete\n",
      "ca1778b69356: Pull complete\n",
      "518777ca318a: Verifying Checksum\n",
      "518777ca318a: Download complete\n",
      "518777ca318a: Pull complete\n",
      "4f4fb700ef54: Pull complete\n",
      "f3214da40ad6: Pull complete\n",
      "4cf419baf0fd: Pull complete\n",
      "0051d2b6e334: Verifying Checksum\n",
      "0051d2b6e334: Download complete\n",
      "1bb975664fd4: Verifying Checksum\n",
      "1bb975664fd4: Download complete\n",
      "6f8031a5cee9: Verifying Checksum\n",
      "6f8031a5cee9: Download complete\n",
      "e3de16b18118: Verifying Checksum\n",
      "e3de16b18118: Download complete\n",
      "8222ec87331e: Verifying Checksum\n",
      "8222ec87331e: Download complete\n",
      "8f6dbd1e47fa: Download complete\n",
      "6f8031a5cee9: Pull complete\n",
      "33f7730dff5d: Pull complete\n",
      "ae439f3bd24e: Pull complete\n",
      "24fdcd115c41: Verifying Checksum\n",
      "24fdcd115c41: Download complete\n",
      "0051d2b6e334: Pull complete\n",
      "1bb975664fd4: Pull complete\n",
      "6dece0c7252b: Verifying Checksum\n",
      "6dece0c7252b: Download complete\n",
      "6b38923421ac: Verifying Checksum\n",
      "6b38923421ac: Download complete\n",
      "6b38923421ac: Pull complete\n",
      "6dece0c7252b: Pull complete\n",
      "e3de16b18118: Pull complete\n",
      "8222ec87331e: Pull complete\n",
      "8f6dbd1e47fa: Pull complete\n",
      "24fdcd115c41: Pull complete\n",
      "Digest: sha256:f32efb09d1e4f87997470efb444e8810788a5c558900a80ee562f2be5d64b481\n",
      "Status: Downloaded newer image for redis/redis-stack:latest\n"
     ]
    },
    {
     "name": "stdout",
     "output_type": "stream",
     "text": [
      "639ae12f806a34cb8c477cd58c1e1f191690cc666de44cda2d8db3ee55ced958\n"
     ]
    }
   ],
   "source": [
    "%%sh\n",
    "docker run -d -p 13333:8001 -p 10001:6379 redis/redis-stack:latest"
   ]
  },
  {
   "attachments": {},
   "cell_type": "markdown",
   "metadata": {},
   "source": [
    "# imports"
   ]
  },
  {
   "cell_type": "code",
   "execution_count": 5,
   "metadata": {},
   "outputs": [],
   "source": [
    "import requests\n",
    "import urllib.request\n",
    "import json\n",
    "import time\n",
    "import random\n",
    "from langchain.embeddings import OpenAIEmbeddings\n",
    "from langchain.text_splitter import CharacterTextSplitter\n",
    "from langchain.vectorstores.redis import Redis\n",
    "from langchain.document_loaders import TextLoader\n",
    "from langchain.docstore.document import Document\n",
    "import redis"
   ]
  }
 ],
 "metadata": {
  "kernelspec": {
   "display_name": "venv",
   "language": "python",
   "name": "python3"
  },
  "language_info": {
   "codemirror_mode": {
    "name": "ipython",
    "version": 3
   },
   "file_extension": ".py",
   "mimetype": "text/x-python",
   "name": "python",
   "nbconvert_exporter": "python",
   "pygments_lexer": "ipython3",
   "version": "3.11.2"
  },
  "orig_nbformat": 4
 },
 "nbformat": 4,
 "nbformat_minor": 2
}
