{
 "cells": [
  {
   "cell_type": "markdown",
   "metadata": {},
   "source": [
    "# Hugging Face Local Pipelines\n"
   ]
  },
  {
   "cell_type": "code",
   "execution_count": null,
   "metadata": {},
   "outputs": [],
   "source": [
    "%pip install --upgrade torch==2.0.1\n",
    "\n",
    "%pip install --upgrade auto-gptq\n",
    "%pip install --upgrade ipywidgets\n",
    "%pip install --upgrade langchain\n",
    "%pip install --upgrade optimum\n",
    "%pip install --upgrade transformers"
   ]
  },
  {
   "cell_type": "code",
   "execution_count": 1,
   "metadata": {},
   "outputs": [],
   "source": [
    "from langchain.llms import HuggingFacePipeline\n",
    "from transformers import AutoTokenizer, AutoModelForCausalLM\n",
    "\n",
    "model_id=\"TheBloke/Llama-2-7b-Chat-GPTQ\"\n",
    "\n",
    "tokenizer = AutoTokenizer.from_pretrained(model_id)\n",
    "model = AutoModelForCausalLM.from_pretrained(model_id)\n",
    "# after first download, add `\"disable_exllama\": true` to model's config.json under \"quantization_config\""
   ]
  },
  {
   "cell_type": "code",
   "execution_count": 16,
   "metadata": {},
   "outputs": [],
   "source": [
    "from transformers import pipeline\n",
    "\n",
    "pipeline = pipeline(\n",
    "    \"text-generation\",\n",
    "    model=model, \n",
    "    tokenizer=tokenizer, \n",
    "    max_length=128,\n",
    "    temperature=0.1,\n",
    "    do_sample=True,\n",
    "    device=0,  # -1 for CPU\n",
    ")\n",
    "\n",
    "tokenizer.pad_token_id = model.config.eos_token_id\n",
    "\n",
    "\n",
    "llm = HuggingFacePipeline(\n",
    "    pipeline=pipeline,\n",
    ")"
   ]
  },
  {
   "cell_type": "code",
   "execution_count": 17,
   "metadata": {},
   "outputs": [],
   "source": [
    "from langchain import PromptTemplate, LLMChain\n",
    "\n",
    "template = \"\"\"Question: {question}\n",
    "\n",
    "Answer: Let's think step by step.\"\"\"\n",
    "\n",
    "prompt = PromptTemplate(template=template, input_variables=[\"question\"])\n",
    "\n",
    "chain = prompt | llm\n"
   ]
  },
  {
   "cell_type": "code",
   "execution_count": 18,
   "metadata": {},
   "outputs": [
    {
     "name": "stdout",
     "output_type": "stream",
     "text": [
      " NAS stands for Network Attached Storage. It is a type of dedicated storage device that connects to a network and provides shared access to files and folders. NAS devices are typically used in a home or office environment to store and share files among multiple users. They are designed to be easy to set up and use, and they offer a range of features such as file sharing, backup, and media streaming.\n",
      "NAS devices are different from other types of storage devices like hard drives or solid-state drives (SSDs) because they are specifically\n"
     ]
    }
   ],
   "source": [
    "question = \"What is NAS?\"\n",
    "\n",
    "print(chain.invoke({\"question\": question}))"
   ]
  },
  {
   "cell_type": "code",
   "execution_count": 6,
   "metadata": {},
   "outputs": [
    {
     "name": "stdout",
     "output_type": "stream",
     "text": [
      "\n",
      "\n",
      "In French, the number 0 is written as \"zéro\".\n",
      "\n",
      "\n",
      "In French, the number 1 is written as \"un\".\n",
      "\n",
      "So, if you want to say \"the number one\" in French, you would say \"le numéro un\n",
      "\n",
      "\n",
      "The number 2 in English is \"two\".\n",
      "\n",
      "In French, the number 2 is \"deux\".\n",
      "\n",
      "\n",
      "The number 3 in English is \"three\".\n",
      "\n",
      "In French, the number 3 is \"trois\".\n"
     ]
    }
   ],
   "source": [
    "questions = []\n",
    "for i in range(4):\n",
    "    questions.append({\"question\": f\"What is the number {i} in french?\"})\n",
    "\n",
    "answers = chain.batch(questions)\n",
    "for answer in answers:\n",
    "    print(answer)"
   ]
  }
 ],
 "metadata": {
  "kernelspec": {
   "display_name": "venv",
   "language": "python",
   "name": "python3"
  },
  "language_info": {
   "codemirror_mode": {
    "name": "ipython",
    "version": 3
   },
   "file_extension": ".py",
   "mimetype": "text/x-python",
   "name": "python",
   "nbconvert_exporter": "python",
   "pygments_lexer": "ipython3",
   "version": "3.11.4"
  }
 },
 "nbformat": 4,
 "nbformat_minor": 2
}
