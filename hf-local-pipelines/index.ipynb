{
 "cells": [
  {
   "cell_type": "code",
   "execution_count": null,
   "metadata": {},
   "outputs": [],
   "source": [
    "%pip install --upgrade chromadb\n",
    "%pip install --upgrade sentence-transformers"
   ]
  },
  {
   "cell_type": "code",
   "execution_count": 1,
   "metadata": {},
   "outputs": [],
   "source": [
    "# import\n",
    "from langchain.docstore.document import Document\n",
    "from langchain.document_loaders import TextLoader\n",
    "from langchain.embeddings.sentence_transformer import SentenceTransformerEmbeddings\n",
    "from langchain.text_splitter import CharacterTextSplitter\n",
    "from langchain.vectorstores import Chroma\n"
   ]
  },
  {
   "cell_type": "code",
   "execution_count": 2,
   "metadata": {},
   "outputs": [],
   "source": [
    "embedding_function = SentenceTransformerEmbeddings(model_name=\"all-MiniLM-L6-v2\")"
   ]
  },
  {
   "cell_type": "code",
   "execution_count": 5,
   "metadata": {},
   "outputs": [
    {
     "name": "stdout",
     "output_type": "stream",
     "text": [
      "../content/guides.md\n",
      "../content/contribute.md\n",
      "../content/troubleshooting.md\n",
      "../content/get-started.md\n",
      "../content/home.md\n",
      "../content/user-pages.md\n",
      "../content/guides/running-casaos-on-windows-with-wsl2.md\n",
      "../content/guides/move-docker-images-and-volumes-to-a-diffferent-storage.md\n",
      "../content/zh/guides.md\n",
      "../content/zh/apps.md\n",
      "../content/zh/contribute.md\n",
      "../content/zh/troubleshooting.md\n",
      "../content/zh/get-started.md\n",
      "../content/zh/home.md\n",
      "../content/zh/user-pages.md\n",
      "../content/zh/contribute/development.md\n",
      "../content/user-pages/tigerinus.md\n",
      "../content/contribute/wiki-editing-guidelines.md\n",
      "../content/contribute/alpha.md\n",
      "../content/contribute/development.md\n",
      "../content/troubleshooting/appstore-does-not-load.md\n",
      "21 documents indexed\n"
     ]
    }
   ],
   "source": [
    "import os\n",
    "from langchain.text_splitter import MarkdownTextSplitter\n",
    "\n",
    "docsearch = Chroma(persist_directory='data/chroma', embedding_function=embedding_function)\n",
    "\n",
    "text_splitter = MarkdownTextSplitter(chunk_size=1000, chunk_overlap=100)\n",
    "\n",
    "docs = []\n",
    "count = 0\n",
    "for root, _, files in os.walk(\"../content\"):\n",
    "    for file in files:\n",
    "        if file.endswith(\".txt\") or file.endswith(\".md\"):\n",
    "            filepath = os.path.join(root, file)\n",
    "            print(f\"{filepath}\")\n",
    "                \n",
    "            count += 1\n",
    "            with open(filepath, \"r\") as f:\n",
    "                text = f.read()\n",
    "                metadata={'source': filepath}\n",
    "                doc = Document(page_content=text, metadata=metadata)\n",
    "                split_docs = text_splitter.split_documents([doc])\n",
    "                docs.extend(split_docs)\n",
    "\n",
    "docsearch.add_documents(docs)\n",
    "\n",
    "print(f\"{count} documents indexed\")"
   ]
  }
 ],
 "metadata": {
  "kernelspec": {
   "display_name": "venv",
   "language": "python",
   "name": "python3"
  },
  "language_info": {
   "codemirror_mode": {
    "name": "ipython",
    "version": 3
   },
   "file_extension": ".py",
   "mimetype": "text/x-python",
   "name": "python",
   "nbconvert_exporter": "python",
   "pygments_lexer": "ipython3",
   "version": "3.11.4"
  }
 },
 "nbformat": 4,
 "nbformat_minor": 2
}
