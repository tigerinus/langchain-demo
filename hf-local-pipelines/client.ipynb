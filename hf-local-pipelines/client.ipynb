{
 "cells": [
  {
   "cell_type": "code",
   "execution_count": 1,
   "metadata": {},
   "outputs": [
    {
     "data": {
      "text/plain": [
       "{'output': {'answer': '\\n\\nYou can contribute to CasaOS as a developer by following the guidelines provided in the \"Contribute\" section of the \"Development\" chapter. This will help you understand the different areas you can contribute to, such as coding, helping users, and translations. Additionally, you can check out the \"Helping with Translations\" section to learn how to help with translating CasaOS into different languages.\\n\\n\\nIf you have any questions or need further clarification, feel free to ask.'},\n",
       " 'callback_events': []}"
      ]
     },
     "execution_count": 1,
     "metadata": {},
     "output_type": "execute_result"
    }
   ],
   "source": [
    "import requests\n",
    "\n",
    "inputs = {\"input\": {\"question\": \"How to contribute to CasaOS as a developer?\", \"chat_history\": []}}\n",
    "response = requests.post(\"http://localhost:8000/invoke\", json=inputs)\n",
    "\n",
    "response.json()"
   ]
  },
  {
   "cell_type": "code",
   "execution_count": 2,
   "metadata": {},
   "outputs": [],
   "source": [
    "from langserve import RemoteRunnable\n",
    "\n",
    "remote_runnable = RemoteRunnable(\"http://localhost:8000/\")"
   ]
  },
  {
   "cell_type": "code",
   "execution_count": 4,
   "metadata": {},
   "outputs": [
    {
     "data": {
      "text/plain": [
       "{'answer': ' You can update `docker.service` in systemd with the new path for `/var/lib/docker` and then use `rsync` to copy the content to the new location. Then restart the services and update the `docker.service` file again to reflect the new path.'}"
      ]
     },
     "execution_count": 4,
     "metadata": {},
     "output_type": "execute_result"
    }
   ],
   "source": [
    "await remote_runnable.ainvoke({\"question\": \"How to move Docker volumes and images to a different localtion?\", \"chat_history\": []})\n"
   ]
  }
 ],
 "metadata": {
  "kernelspec": {
   "display_name": "venv",
   "language": "python",
   "name": "python3"
  },
  "language_info": {
   "codemirror_mode": {
    "name": "ipython",
    "version": 3
   },
   "file_extension": ".py",
   "mimetype": "text/x-python",
   "name": "python",
   "nbconvert_exporter": "python",
   "pygments_lexer": "ipython3",
   "version": "3.11.4"
  }
 },
 "nbformat": 4,
 "nbformat_minor": 2
}
