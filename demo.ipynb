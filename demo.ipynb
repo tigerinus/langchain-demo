{
 "cells": [
  {
   "attachments": {},
   "cell_type": "markdown",
   "metadata": {},
   "source": [
    "# requirements"
   ]
  },
  {
   "cell_type": "code",
   "execution_count": 1,
   "metadata": {
    "vscode": {
     "languageId": "shellscript"
    }
   },
   "outputs": [
    {
     "name": "stdout",
     "output_type": "stream",
     "text": [
      "Requirement already satisfied: langchain in ./venv/lib/python3.11/site-packages (0.0.154)\n",
      "Requirement already satisfied: PyYAML>=5.4.1 in ./venv/lib/python3.11/site-packages (from langchain) (6.0)\n",
      "Requirement already satisfied: SQLAlchemy<3,>1.4 in ./venv/lib/python3.11/site-packages (from langchain) (2.0.12)\n",
      "Requirement already satisfied: aiohttp<4.0.0,>=3.8.3 in ./venv/lib/python3.11/site-packages (from langchain) (3.8.4)\n",
      "Requirement already satisfied: dataclasses-json<0.6.0,>=0.5.7 in ./venv/lib/python3.11/site-packages (from langchain) (0.5.7)\n",
      "Requirement already satisfied: numexpr<3.0.0,>=2.8.4 in ./venv/lib/python3.11/site-packages (from langchain) (2.8.4)\n",
      "Requirement already satisfied: numpy<2,>=1 in ./venv/lib/python3.11/site-packages (from langchain) (1.24.3)\n",
      "Requirement already satisfied: openapi-schema-pydantic<2.0,>=1.2 in ./venv/lib/python3.11/site-packages (from langchain) (1.2.4)\n",
      "Requirement already satisfied: pydantic<2,>=1 in ./venv/lib/python3.11/site-packages (from langchain) (1.10.7)\n",
      "Requirement already satisfied: requests<3,>=2 in ./venv/lib/python3.11/site-packages (from langchain) (2.29.0)\n",
      "Requirement already satisfied: tenacity<9.0.0,>=8.1.0 in ./venv/lib/python3.11/site-packages (from langchain) (8.2.2)\n",
      "Requirement already satisfied: tqdm>=4.48.0 in ./venv/lib/python3.11/site-packages (from langchain) (4.65.0)\n",
      "Requirement already satisfied: attrs>=17.3.0 in ./venv/lib/python3.11/site-packages (from aiohttp<4.0.0,>=3.8.3->langchain) (23.1.0)\n",
      "Requirement already satisfied: charset-normalizer<4.0,>=2.0 in ./venv/lib/python3.11/site-packages (from aiohttp<4.0.0,>=3.8.3->langchain) (3.1.0)\n",
      "Requirement already satisfied: multidict<7.0,>=4.5 in ./venv/lib/python3.11/site-packages (from aiohttp<4.0.0,>=3.8.3->langchain) (6.0.4)\n",
      "Requirement already satisfied: async-timeout<5.0,>=4.0.0a3 in ./venv/lib/python3.11/site-packages (from aiohttp<4.0.0,>=3.8.3->langchain) (4.0.2)\n",
      "Requirement already satisfied: yarl<2.0,>=1.0 in ./venv/lib/python3.11/site-packages (from aiohttp<4.0.0,>=3.8.3->langchain) (1.9.2)\n",
      "Requirement already satisfied: frozenlist>=1.1.1 in ./venv/lib/python3.11/site-packages (from aiohttp<4.0.0,>=3.8.3->langchain) (1.3.3)\n",
      "Requirement already satisfied: aiosignal>=1.1.2 in ./venv/lib/python3.11/site-packages (from aiohttp<4.0.0,>=3.8.3->langchain) (1.3.1)\n",
      "Requirement already satisfied: marshmallow<4.0.0,>=3.3.0 in ./venv/lib/python3.11/site-packages (from dataclasses-json<0.6.0,>=0.5.7->langchain) (3.19.0)\n",
      "Requirement already satisfied: marshmallow-enum<2.0.0,>=1.5.1 in ./venv/lib/python3.11/site-packages (from dataclasses-json<0.6.0,>=0.5.7->langchain) (1.5.1)\n",
      "Requirement already satisfied: typing-inspect>=0.4.0 in ./venv/lib/python3.11/site-packages (from dataclasses-json<0.6.0,>=0.5.7->langchain) (0.8.0)\n",
      "Requirement already satisfied: typing-extensions>=4.2.0 in ./venv/lib/python3.11/site-packages (from pydantic<2,>=1->langchain) (4.5.0)\n",
      "Requirement already satisfied: idna<4,>=2.5 in ./venv/lib/python3.11/site-packages (from requests<3,>=2->langchain) (3.4)\n",
      "Requirement already satisfied: urllib3<1.27,>=1.21.1 in ./venv/lib/python3.11/site-packages (from requests<3,>=2->langchain) (1.26.15)\n",
      "Requirement already satisfied: certifi>=2017.4.17 in ./venv/lib/python3.11/site-packages (from requests<3,>=2->langchain) (2022.12.7)\n",
      "Requirement already satisfied: greenlet!=0.4.17 in ./venv/lib/python3.11/site-packages (from SQLAlchemy<3,>1.4->langchain) (2.0.2)\n",
      "Requirement already satisfied: packaging>=17.0 in ./venv/lib/python3.11/site-packages (from marshmallow<4.0.0,>=3.3.0->dataclasses-json<0.6.0,>=0.5.7->langchain) (23.1)\n",
      "Requirement already satisfied: mypy-extensions>=0.3.0 in ./venv/lib/python3.11/site-packages (from typing-inspect>=0.4.0->dataclasses-json<0.6.0,>=0.5.7->langchain) (1.0.0)\n",
      "Requirement already satisfied: openai in ./venv/lib/python3.11/site-packages (0.27.5)\n",
      "Collecting openai\n",
      "  Downloading openai-0.27.6-py3-none-any.whl (71 kB)\n",
      "\u001b[2K     \u001b[90m━━━━━━━━━━━━━━━━━━━━━━━━━━━━━━━━━━━━━━━\u001b[0m \u001b[32m71.9/71.9 kB\u001b[0m \u001b[31m330.3 kB/s\u001b[0m eta \u001b[36m0:00:00\u001b[0m00:01\u001b[0m00:01\u001b[0m\n",
      "\u001b[?25hRequirement already satisfied: requests>=2.20 in ./venv/lib/python3.11/site-packages (from openai) (2.29.0)\n",
      "Requirement already satisfied: tqdm in ./venv/lib/python3.11/site-packages (from openai) (4.65.0)\n",
      "Requirement already satisfied: aiohttp in ./venv/lib/python3.11/site-packages (from openai) (3.8.4)\n",
      "Requirement already satisfied: charset-normalizer<4,>=2 in ./venv/lib/python3.11/site-packages (from requests>=2.20->openai) (3.1.0)\n",
      "Requirement already satisfied: idna<4,>=2.5 in ./venv/lib/python3.11/site-packages (from requests>=2.20->openai) (3.4)\n",
      "Requirement already satisfied: urllib3<1.27,>=1.21.1 in ./venv/lib/python3.11/site-packages (from requests>=2.20->openai) (1.26.15)\n",
      "Requirement already satisfied: certifi>=2017.4.17 in ./venv/lib/python3.11/site-packages (from requests>=2.20->openai) (2022.12.7)\n",
      "Requirement already satisfied: attrs>=17.3.0 in ./venv/lib/python3.11/site-packages (from aiohttp->openai) (23.1.0)\n",
      "Requirement already satisfied: multidict<7.0,>=4.5 in ./venv/lib/python3.11/site-packages (from aiohttp->openai) (6.0.4)\n",
      "Requirement already satisfied: async-timeout<5.0,>=4.0.0a3 in ./venv/lib/python3.11/site-packages (from aiohttp->openai) (4.0.2)\n",
      "Requirement already satisfied: yarl<2.0,>=1.0 in ./venv/lib/python3.11/site-packages (from aiohttp->openai) (1.9.2)\n",
      "Requirement already satisfied: frozenlist>=1.1.1 in ./venv/lib/python3.11/site-packages (from aiohttp->openai) (1.3.3)\n",
      "Requirement already satisfied: aiosignal>=1.1.2 in ./venv/lib/python3.11/site-packages (from aiohttp->openai) (1.3.1)\n",
      "Installing collected packages: openai\n",
      "  Attempting uninstall: openai\n",
      "    Found existing installation: openai 0.27.5\n",
      "    Uninstalling openai-0.27.5:\n",
      "      Successfully uninstalled openai-0.27.5\n",
      "Successfully installed openai-0.27.6\n",
      "Requirement already satisfied: python-dotenv in ./venv/lib/python3.11/site-packages (1.0.0)\n",
      "Requirement already satisfied: redis in ./venv/lib/python3.11/site-packages (4.5.4)\n",
      "Requirement already satisfied: async-timeout>=4.0.2 in ./venv/lib/python3.11/site-packages (from redis) (4.0.2)\n",
      "Requirement already satisfied: requests in ./venv/lib/python3.11/site-packages (2.29.0)\n",
      "Requirement already satisfied: charset-normalizer<4,>=2 in ./venv/lib/python3.11/site-packages (from requests) (3.1.0)\n",
      "Requirement already satisfied: idna<4,>=2.5 in ./venv/lib/python3.11/site-packages (from requests) (3.4)\n",
      "Requirement already satisfied: urllib3<1.27,>=1.21.1 in ./venv/lib/python3.11/site-packages (from requests) (1.26.15)\n",
      "Requirement already satisfied: certifi>=2017.4.17 in ./venv/lib/python3.11/site-packages (from requests) (2022.12.7)\n",
      "Requirement already satisfied: tiktoken in ./venv/lib/python3.11/site-packages (0.3.3)\n",
      "Requirement already satisfied: regex>=2022.1.18 in ./venv/lib/python3.11/site-packages (from tiktoken) (2023.3.23)\n",
      "Requirement already satisfied: requests>=2.26.0 in ./venv/lib/python3.11/site-packages (from tiktoken) (2.29.0)\n",
      "Requirement already satisfied: charset-normalizer<4,>=2 in ./venv/lib/python3.11/site-packages (from requests>=2.26.0->tiktoken) (3.1.0)\n",
      "Requirement already satisfied: idna<4,>=2.5 in ./venv/lib/python3.11/site-packages (from requests>=2.26.0->tiktoken) (3.4)\n",
      "Requirement already satisfied: urllib3<1.27,>=1.21.1 in ./venv/lib/python3.11/site-packages (from requests>=2.26.0->tiktoken) (1.26.15)\n",
      "Requirement already satisfied: certifi>=2017.4.17 in ./venv/lib/python3.11/site-packages (from requests>=2.26.0->tiktoken) (2022.12.7)\n"
     ]
    }
   ],
   "source": [
    "%%sh\n",
    "pip install --upgrade langchain\n",
    "pip install --upgrade openai\n",
    "pip install --upgrade python-dotenv\n",
    "pip install --upgrade redis\n",
    "pip install --upgrade requests\n",
    "pip install --upgrade tiktoken"
   ]
  },
  {
   "attachments": {},
   "cell_type": "markdown",
   "metadata": {},
   "source": [
    "# environment"
   ]
  },
  {
   "cell_type": "code",
   "execution_count": 3,
   "metadata": {
    "vscode": {
     "languageId": "shellscript"
    }
   },
   "outputs": [
    {
     "name": "stdout",
     "output_type": "stream",
     "text": [
      "Linux\n"
     ]
    }
   ],
   "source": [
    "%%sh\n",
    "docker exec redis uname || docker run --rm --name redis -d -p 13333:8001 -p 10001:6379 redis/redis-stack:latest"
   ]
  },
  {
   "attachments": {},
   "cell_type": "markdown",
   "metadata": {},
   "source": [
    "# imports"
   ]
  },
  {
   "cell_type": "code",
   "execution_count": 4,
   "metadata": {},
   "outputs": [],
   "source": [
    "from dotenv import load_dotenv\n",
    "from langchain.docstore.document import Document\n",
    "from langchain.document_loaders import TextLoader\n",
    "from langchain.embeddings import OpenAIEmbeddings\n",
    "from langchain.text_splitter import CharacterTextSplitter\n",
    "from langchain.vectorstores.redis import Redis\n",
    "import json\n",
    "import os\n",
    "import random\n",
    "import redis\n",
    "import requests\n",
    "import time\n",
    "import urllib.request"
   ]
  },
  {
   "attachments": {},
   "cell_type": "markdown",
   "metadata": {},
   "source": [
    "# vectorization"
   ]
  },
  {
   "cell_type": "code",
   "execution_count": 14,
   "metadata": {},
   "outputs": [
    {
     "name": "stdout",
     "output_type": "stream",
     "text": [
      "./content/troubleshooting.md\n",
      "./content/home.md\n",
      "./content/get-started.md\n",
      "./content/guides.md\n",
      "./content/contribute.md\n",
      "./content/user-pages.md\n",
      "./content/apps.html\n",
      "./content/user-pages/tigerinus.md\n",
      "./content/contribute/development.md\n",
      "./content/contribute/wiki-editing-guidelines.md\n",
      "./content/contribute/alpha.md\n",
      "./content/guides/move-docker-images-and-volumes-to-a-diffferent-storage.md\n",
      "./content/guides/running-casaos-on-windows-with-wsl2.md\n",
      "./content/troubleshooting/appstore-does-not-load.md\n",
      "./content/appfile/jellyfin.json\n",
      "./content/apps/jellyfin.html\n",
      "./content/zh/apps.md\n",
      "./content/zh/troubleshooting.md\n",
      "./content/zh/home.md\n",
      "./content/zh/get-started.md\n",
      "./content/zh/guides.md\n",
      "./content/zh/contribute.md\n",
      "./content/zh/user-pages.md\n",
      "./content/zh/contribute/development.md\n"
     ]
    }
   ],
   "source": [
    "load_dotenv()\n",
    "embeddings = OpenAIEmbeddings()\n",
    "\n",
    "index_name = \"demo\"\n",
    "Redis.drop_index(index_name=index_name, delete_documents=True)\n",
    "\n",
    "# traverse the ./content directory recursively and load each file that contains plain text\n",
    "\n",
    "docs = []\n",
    "for root, _, files in os.walk(\"./content\"):\n",
    "    for file in files:\n",
    "        if file.endswith(\".md\") or file.endswith(\".html\") or file.endswith(\".json\"):\n",
    "            filepath = os.path.join(root, file)\n",
    "            print(filepath)\n",
    "            with open(filepath, \"r\") as f:\n",
    "                text = f.read()\n",
    "                metadata={'source': filepath}\n",
    "                doc = Document(page_content=text, metadata=metadata)\n",
    "                docs.append(doc)\n",
    "\n",
    "rds = Redis.from_documents(docs, embeddings, index_name=index_name)\n"
   ]
  },
  {
   "attachments": {},
   "cell_type": "markdown",
   "metadata": {},
   "source": [
    "# recommendation"
   ]
  },
  {
   "cell_type": "code",
   "execution_count": 15,
   "metadata": {},
   "outputs": [
    {
     "name": "stdout",
     "output_type": "stream",
     "text": [
      "{'source': './content/guides/move-docker-images-and-volumes-to-a-diffferent-storage.md'}\n",
      "---\n",
      "title: How to move docker images and volumes to a different storage\n",
      "description: guides\n",
      "published: true\n",
      "date: 2023-03-08T21:12:34.543Z\n",
      "tags: docker\n",
      "editor: markdown\n",
      "dateCreated: 2022-08-13T17:00:12.935Z\n",
      "---\n",
      "\n",
      "There are few options to change where Docker images and volumes are stored. You can make `/var/lib/docker` a mount point to some new partition; or symbol link `var/lib/docker` to a path on certain filesystems. This approach below involves updating `docker.service` in systemd with the new path.\n",
      "\n",
      "*(credits: https://linuxconfig.org/how-to-move-docker-s-default-var-lib-docker-to-another-directory-on-ubuntu-debian-linux).*\n",
      "\n",
      "> Risk of this approach is from time to time, when Docker is upgraded, there is a chance that the updated `docker.service` file gets reverted to default settings. In that case, you will not see the current images and volumes and will have to update the file again\n",
      "{.is-warning}\n",
      "\n",
      "# Steps\n",
      "\n",
      "1. Make sure CasaOS services are stopped\n",
      "\n",
      "```bash\n",
      "$ sudo systemctl stop casaos*.service\n",
      "\n",
      "$ sudo systemctl status casaos.service\n",
      "○ casaos.service - CasaOS Service\n",
      "     Loaded: loaded (/etc/systemd/system/casaos.service; enabled; vendor preset: enabled)\n",
      "     Active: inactive (dead) since Sat 2022-08-13 12:58:08 EDT; 6min ago\n",
      "    Process: 9812 ExecStart=/usr/bin/casaos -c /etc/casaos.conf (code=killed, signal=TERM)\n",
      "   Main PID: 9812 (code=killed, signal=TERM)\n",
      "        CPU: 2.181s\n",
      "```\n",
      "\n",
      "2. Make sure Docker services are stopped\n",
      "\n",
      "```bash\n",
      "$ sudo systemctl stop docker.*\n",
      "\n",
      "$ sudo systemctl status docker.service\n",
      "○ docker.service - Docker Application Container Engine\n",
      "     Loaded: loaded (/lib/systemd/system/docker.service; enabled; vendor preset: enabled)\n",
      "     Active: inactive (dead) since Sat 2022-08-13 13:07:59 EDT; 2s ago\n",
      "TriggeredBy: ○ docker.socket\n",
      "       Docs: https://docs.docker.com\n",
      "    Process: 565 ExecStart=/usr/bin/dockerd -H fd:// --containerd=/run/containerd/containerd.sock (code=exited, status=>\n",
      "   Main PID: 565 (code=exited, status=0/SUCCESS)\n",
      "        CPU: 1min 54.225s\n",
      "        \n",
      "$ sudo systemctl status docker.socket\n",
      "○ docker.socket - Docker Socket for the API\n",
      "     Loaded: loaded (/lib/systemd/system/docker.socket; enabled; vendor preset: enabled)\n",
      "     Active: inactive (dead) since Sat 2022-08-13 13:07:59 EDT; 5s ago\n",
      "   Triggers: ● docker.service\n",
      "     Listen: /run/docker.sock (Stream)\n",
      "        CPU: 1ms\n",
      "```\n",
      "\n",
      "3. Create the new directory for images and volumes\n",
      "\n",
      "```bash\n",
      "$ sudo mkdir -p /path/to/new/location\n",
      "```\n",
      "\n",
      "> In this example, it is `/path/to/new/location`. Make sure it is changed to the actual preferred path. \n",
      "{.is-warning}\n",
      "\n",
      "\n",
      "4. As `root` user or under `sudo` privilege, update `/lib/systemd/system/docker.service` to include `--data-root /path/to/new/location` parameter in the line starts with `ExecStart=`\n",
      "\n",
      "For example, if previously the line looks like\n",
      "\n",
      "```ini\n",
      "ExecStart=/usr/bin/dockerd -H fd:// --containerd=/run/containerd/containerd.sock\n",
      "```\n",
      "\n",
      "Then after the update it should look like\n",
      "\n",
      "```ini\n",
      "ExecStart=/usr/bin/dockerd -H fd:// --containerd=/run/containerd/containerd.sock --data-root /path/to/new/location\n",
      "```\n",
      "\n",
      "5. Now let us copy the existing content from `/var/lib/docker` to the new path.\n",
      "\n",
      "```bash\n",
      "$ sudo rsync -avxP /var/lib/docker/ /path/to/new/location\n",
      "```\n",
      "\n",
      "> In case something goes wrong and things need to be reverted, we do not actually move the content. Instead we use `rsync` to copy content over to the new path.\n",
      "{.is-info}\n",
      "\n",
      "\n",
      "6. Now restart the services\n",
      "\n",
      "```bash\n",
      "$ sudo systemctl daemon-reload\n",
      "$ sudo systemctl start docker.service\n",
      "$ sudo systemctl start casaos.service\n",
      "```\n",
      "\n",
      "7. If everything goes well in couple of days, feel free to delete `/var/lib/docker/*` to reclaim some storage space.\n",
      "\n",
      "```\n",
      "$ sudo rm -rf /var/lib/docker/*\n",
      "```\n",
      "\n",
      "> If the command above does not clean the folder completely, try `sudo su` followed by `rm -rf /var/lib/docker/*`\n",
      "\n",
      "{'source': './content/appfile/jellyfin.json'}\n",
      "{\"container_name\":\"Jellyfin\",\"custom_id\":\"c6ef4b4e-080e-465c-b955-202ec95c1e22\",\"origin\":\"official\",\"network_model\":\"bridge\",\"index\":\"/\",\"icon\":\"https://cdn.jsdelivr.net/gh/IceWhaleTech/CasaOS-AppStore@main/Apps/Jellyfin/icon.png\",\"image\":\"linuxserver/jellyfin:latest\",\"envs\":[{\"container\":\"TZ\",\"host\":\"America/New_York\",\"desc\":\"\",\"type\":0},{\"container\":\"PUID\",\"host\":\"1000\",\"desc\":\"\",\"type\":0},{\"container\":\"PGID\",\"host\":\"1000\",\"desc\":\"\",\"type\":0},{\"container\":\"JELLYFIN_PublishedServerUrl\",\"host\":\"\",\"desc\":\"\",\"type\":0}],\"ports\":[{\"container\":\"7359\",\"host\":\"7359\",\"protocol\":\"tcp\",\"desc\":\"\",\"type\":0},{\"container\":\"8096\",\"host\":\"8096\",\"protocol\":\"tcp\",\"desc\":\"\",\"type\":0},{\"container\":\"8920\",\"host\":\"8920\",\"protocol\":\"tcp\",\"desc\":\"\",\"type\":0},{\"container\":\"1900\",\"host\":\"1900\",\"protocol\":\"tcp\",\"desc\":\"\",\"type\":0}],\"volumes\":[{\"container\":\"/config\",\"host\":\"/DATA/AppData/Jellyfin/config\",\"type\":0,\"desc\":\"\"},{\"container\":\"/Media\",\"host\":\"/DATA/Media\",\"type\":0,\"desc\":\"\"},{\"container\":\"/opt/vc/lib\",\"host\":\"/opt/vc/lib\",\"type\":0,\"desc\":\"\"}],\"devices\":[],\"port_map\":\"8096\",\"cpu_shares\":50,\"restart\":\"always\",\"enable_upnp\":false,\"label\":\"Jellyfin\",\"description\":\"Jellyfin enables you to collect, manage, and stream your media. Run the Jellyfin server on your system and gain access to the leading free-software entertainment system, bells and whistles included.\",\"position\":false,\"host_name\":\"Jellyfin\",\"privileged\":false,\"cap_add\":[],\"cmd\":[],\"protocol\":\"http\",\"host\":\"\",\"version\":\"1.0\"}\n",
      "{'source': './content/guides.md'}\n",
      "---\n",
      "title: Guides\n",
      "description: \n",
      "published: true\n",
      "date: 2023-02-26T16:02:57.720Z\n",
      "tags: \n",
      "editor: markdown\n",
      "dateCreated: 2022-07-16T01:09:15.605Z\n",
      "---\n",
      "\n",
      "# How do I ...\n",
      "\n",
      "## General\n",
      "\n",
      "- Re-install CasaOS as clean as possible\n",
      "\n",
      "\t```bash\n",
      "  sudo casaos-uninstall # answer prompted questions\n",
      "  curl -fsSL https://get.casaos.io | sudo bash\n",
      "  ```\n",
      "\n",
      "- Update CasaOS manually via command line\n",
      "\n",
      "  ```bash\n",
      "\tcurl -fsSL https://get.casaos.io/update | sudo bash\n",
      "\t```\n",
      "  \n",
      "  This is basically the same thing happens behind the scene after clicking update button from UI.\n",
      "\n",
      "## Docker\n",
      "\n",
      "- [Move docker images and volumes to a different storage](move-docker-images-and-volumes-to-a-diffferent-storage)\n",
      "\n",
      "## User\n",
      "\n",
      "- Reset username and password\n",
      "\n",
      "\t```bash\n",
      "  ls /var/lib/casaos/db/user.db\n",
      "  sudo mv /var/lib/casaos/db/user.db /var/lib/casaos/db/user.db.backup\n",
      "  sudo systemctl restart casaos-user-service.service\n",
      "  ```\n",
      "\n",
      "\tAfter running commands above, visit CasaOS UI again and the welcome screen should present.\n",
      "\n",
      "## Advanced Topics\n",
      "\n",
      "- [Running CasaOS on Windows 10 with WSL2](running-casaos-on-windows-with-wsl2)\n",
      "{'source': './content/troubleshooting.md'}\n",
      "---\n",
      "title: Troubleshooting\n",
      "description: \n",
      "published: true\n",
      "date: 2023-02-14T22:23:19.105Z\n",
      "tags: \n",
      "editor: markdown\n",
      "dateCreated: 2022-07-18T21:06:01.982Z\n",
      "---\n",
      "\n",
      "# What if ...\n",
      "\n",
      "- [Docker based app does not start](/en/troubleshooting/app-does-not-start)\n",
      "- [AppStore does not load](/en/troubleshooting/appstore-does-not-load)\n"
     ]
    }
   ],
   "source": [
    "query = \"move docker image to another host\"\n",
    "for doc in rds.similarity_search(query):\n",
    "    print(doc.metadata)\n",
    "    print(doc.page_content)"
   ]
  },
  {
   "attachments": {},
   "cell_type": "markdown",
   "metadata": {},
   "source": [
    "# QA bot"
   ]
  },
  {
   "cell_type": "code",
   "execution_count": 25,
   "metadata": {},
   "outputs": [],
   "source": [
    "from langchain.chains import RetrievalQA\n",
    "from langchain.llms import OpenAI\n",
    "\n",
    "qa = RetrievalQA.from_chain_type(\n",
    "    llm=OpenAI(), \n",
    "    chain_type=\"stuff\", \n",
    "    retriever=rds.as_retriever(),\n",
    "    return_source_documents=True\n",
    ")\n"
   ]
  },
  {
   "cell_type": "code",
   "execution_count": 31,
   "metadata": {},
   "outputs": [
    {
     "name": "stdout",
     "output_type": "stream",
     "text": [
      " Steps 1-7 in the article \"How to move docker images and volumes to a different storage\" provide instructions on how to move docker images.\n",
      "\n",
      "{'source': './content/guides/move-docker-images-and-volumes-to-a-diffferent-storage.md'}\n"
     ]
    }
   ],
   "source": [
    "result = qa(\n",
    "    {\n",
    "        \"query\": \"How to move docker image?\",\n",
    "    }\n",
    ")\n",
    "\n",
    "print(result[\"result\"])\n",
    "print(\"\")\n",
    "print(result[\"source_documents\"][0].metadata)"
   ]
  }
 ],
 "metadata": {
  "kernelspec": {
   "display_name": "venv",
   "language": "python",
   "name": "python3"
  },
  "language_info": {
   "codemirror_mode": {
    "name": "ipython",
    "version": 3
   },
   "file_extension": ".py",
   "mimetype": "text/x-python",
   "name": "python",
   "nbconvert_exporter": "python",
   "pygments_lexer": "ipython3",
   "version": "3.11.2"
  },
  "orig_nbformat": 4
 },
 "nbformat": 4,
 "nbformat_minor": 2
}
