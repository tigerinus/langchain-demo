{
 "cells": [
  {
   "attachments": {},
   "cell_type": "markdown",
   "metadata": {},
   "source": [
    "# requirements\n",
    "\n",
    "## Pinecone\n",
    "\n",
    "Create an index `langchain-demo` with a dimension of `1536`, if using OpenAI.\n",
    "\n",
    "See https://platform.openai.com/docs/guides/embeddings/second-generation-models "
   ]
  },
  {
   "attachments": {},
   "cell_type": "markdown",
   "metadata": {},
   "source": [
    "# imports"
   ]
  },
  {
   "cell_type": "code",
   "execution_count": 10,
   "metadata": {},
   "outputs": [],
   "source": [
    "from dotenv import load_dotenv\n",
    "from langchain.docstore.document import Document\n",
    "from langchain.embeddings import OpenAIEmbeddings\n",
    "from langchain.text_splitter import MarkdownTextSplitter\n",
    "from langchain.vectorstores import Pinecone\n",
    "import os\n",
    "import pinecone\n"
   ]
  },
  {
   "attachments": {},
   "cell_type": "markdown",
   "metadata": {},
   "source": [
    "# vectorization"
   ]
  },
  {
   "cell_type": "code",
   "execution_count": 11,
   "metadata": {},
   "outputs": [
    {
     "name": "stdout",
     "output_type": "stream",
     "text": [
      "....................."
     ]
    }
   ],
   "source": [
    "load_dotenv()\n",
    "\n",
    "pinecone.init(api_key=os.environ[\"PINECONE_API_KEY\"], environment=os.environ[\"PINECONE_ENV\"])\n",
    "\n",
    "embeddings = OpenAIEmbeddings()\n",
    "\n",
    "index_name = \"langchain-demo\"\n",
    "\n",
    "text_splitter = MarkdownTextSplitter(chunk_size=1000, chunk_overlap=100)\n",
    "# traverse the ./content directory recursively and load each file that contains plain text\n",
    "\n",
    "docs = []\n",
    "for root, _, files in os.walk(\"./content\"):\n",
    "    for file in files:\n",
    "        if file.endswith(\".txt\") or file.endswith(\".md\"):\n",
    "            filepath = os.path.join(root, file)\n",
    "            print('.', end='')\n",
    "            with open(filepath, \"r\") as f:\n",
    "                text = f.read()\n",
    "                metadata={'source': filepath}\n",
    "                doc = Document(page_content=text, metadata=metadata)\n",
    "                split_docs = text_splitter.split_documents([doc])\n",
    "                docs.extend(split_docs)\n",
    "\n",
    "docsearch = Pinecone.from_documents(docs, embeddings, index_name=index_name)\n"
   ]
  },
  {
   "attachments": {},
   "cell_type": "markdown",
   "metadata": {},
   "source": [
    "# QA bot"
   ]
  },
  {
   "cell_type": "code",
   "execution_count": 12,
   "metadata": {},
   "outputs": [
    {
     "data": {
      "application/vnd.jupyter.widget-view+json": {
       "model_id": "4ca84774267f4114a877d3fd1cf45566",
       "version_major": 2,
       "version_minor": 0
      },
      "text/plain": [
       "Text(value='', continuous_update=False, layout=Layout(width='100%'), placeholder='What do you want to know?')"
      ]
     },
     "metadata": {},
     "output_type": "display_data"
    },
    {
     "name": "stdout",
     "output_type": "stream",
     "text": [
      " I don't know. {'source': './content/home.md'}\n",
      " You can find information about setting up the CasaOS development environment on the Contribute page. {'source': './content/contribute/development.md'}\n"
     ]
    }
   ],
   "source": [
    "from IPython.display import display\n",
    "from langchain.chains import RetrievalQA\n",
    "from langchain.llms import OpenAI\n",
    "import ipywidgets as widgets\n",
    "\n",
    "qa = RetrievalQA.from_chain_type(\n",
    "    llm=OpenAI(), \n",
    "    chain_type=\"stuff\", \n",
    "    retriever=docsearch.as_retriever(),\n",
    "    return_source_documents=True\n",
    ")\n",
    "\n",
    "def demo(query):\n",
    "    result = qa(\n",
    "        {\n",
    "            \"query\": query['new']\n",
    "        }\n",
    "    )\n",
    "\n",
    "    if result[\"result\"]:\n",
    "        print(result[\"result\"], end=' ')\n",
    "        print(result[\"source_documents\"][0].metadata)\n",
    "    else:\n",
    "        print(\"I'm sorry I don't have any idea about this ask. Try a different question?\")\n",
    "\n",
    "\n",
    "# Create text widget for input\n",
    "input_text = widgets.Text(continuous_update=False, layout=widgets.Layout(width='100%'), placeholder='What do you want to know?')\n",
    "\n",
    "# Display widget\n",
    "display(input_text)\n",
    "\n",
    "input_text.observe(demo, names='value')"
   ]
  }
 ],
 "metadata": {
  "kernelspec": {
   "display_name": "Python 3 (ipykernel)",
   "language": "python",
   "name": "python3"
  },
  "language_info": {
   "codemirror_mode": {
    "name": "ipython",
    "version": 3
   },
   "file_extension": ".py",
   "mimetype": "text/x-python",
   "name": "python",
   "nbconvert_exporter": "python",
   "pygments_lexer": "ipython3",
   "version": "3.9.2"
  }
 },
 "nbformat": 4,
 "nbformat_minor": 2
}
