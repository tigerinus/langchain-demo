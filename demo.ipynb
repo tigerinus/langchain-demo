{
 "cells": [
  {
   "cell_type": "code",
   "execution_count": 2,
   "metadata": {},
   "outputs": [
    {
     "name": "stderr",
     "output_type": "stream",
     "text": [
      "/home/wxh/dev/tigerinus/langchain-demo/venv/lib/python3.11/site-packages/pinecone/index.py:4: TqdmExperimentalWarning: Using `tqdm.autonotebook.tqdm` in notebook mode. Use `tqdm.tqdm` instead to force console mode (e.g. in jupyter console)\n",
      "  from tqdm.autonotebook import tqdm\n"
     ]
    }
   ],
   "source": [
    "# imports\n",
    "\n",
    "from dotenv import load_dotenv\n",
    "from langchain.docstore.document import Document\n",
    "from langchain.embeddings import OpenAIEmbeddings\n",
    "from langchain.text_splitter import MarkdownTextSplitter\n",
    "from langchain.vectorstores import Pinecone\n",
    "import os\n",
    "import pinecone\n"
   ]
  },
  {
   "cell_type": "code",
   "execution_count": 3,
   "metadata": {},
   "outputs": [
    {
     "name": "stdout",
     "output_type": "stream",
     "text": [
      "....................."
     ]
    }
   ],
   "source": [
    "# vectorization\n",
    "\n",
    "load_dotenv()\n",
    "\n",
    "pinecone.init(api_key=os.environ[\"PINECONE_API_KEY\"], environment=os.environ[\"PINECONE_ENV\"])\n",
    "\n",
    "embeddings = OpenAIEmbeddings()\n",
    "\n",
    "index_name = \"langchain-demo\"\n",
    "\n",
    "index = pinecone.Index(index_name=index_name)\n",
    "index.delete(delete_all=True)\n",
    "\n",
    "text_splitter = MarkdownTextSplitter(chunk_size=1000, chunk_overlap=100)\n",
    "# traverse the ./content directory recursively and load each file that contains plain text\n",
    "\n",
    "docs = []\n",
    "count = 0\n",
    "for root, _, files in os.walk(\"./content\"):\n",
    "    for file in files:\n",
    "        if file.endswith(\".txt\") or file.endswith(\".md\"):\n",
    "            filepath = os.path.join(root, file)\n",
    "            count += 1\n",
    "            with open(filepath, \"r\") as f:\n",
    "                text = f.read()\n",
    "                metadata={'source': filepath}\n",
    "                doc = Document(page_content=text, metadata=metadata)\n",
    "                split_docs = text_splitter.split_documents([doc])\n",
    "                docs.extend(split_docs)\n",
    "\n",
    "docsearch = Pinecone.from_documents(docs, embeddings, index_name=index_name)\n",
    "\n",
    "print(f\"{count} documents indexed\")"
   ]
  },
  {
   "attachments": {},
   "cell_type": "markdown",
   "metadata": {},
   "source": [
    "# CasaOS Spotlight"
   ]
  },
  {
   "cell_type": "code",
   "execution_count": 9,
   "metadata": {},
   "outputs": [
    {
     "data": {
      "application/vnd.jupyter.widget-view+json": {
       "model_id": "bb212cdce9a3437e91df56e341b99012",
       "version_major": 2,
       "version_minor": 0
      },
      "text/plain": [
       "Text(value='', continuous_update=False, layout=Layout(width='62%'), placeholder='What do you want to know?', s…"
      ]
     },
     "metadata": {},
     "output_type": "display_data"
    },
    {
     "data": {
      "application/vnd.jupyter.widget-view+json": {
       "model_id": "7dd98ec51497462b8f4da4cf9459a204",
       "version_major": 2,
       "version_minor": 0
      },
      "text/plain": [
       "Output()"
      ]
     },
     "metadata": {},
     "output_type": "display_data"
    },
    {
     "data": {
      "application/vnd.jupyter.widget-view+json": {
       "model_id": "58ddb1a16f6247d8afdb6115c7675a64",
       "version_major": 2,
       "version_minor": 0
      },
      "text/plain": [
       "Output()"
      ]
     },
     "metadata": {},
     "output_type": "display_data"
    }
   ],
   "source": [
    "from IPython.display import display\n",
    "from langchain.chains import RetrievalQA\n",
    "from langchain.llms import OpenAI\n",
    "import ipywidgets as widgets\n",
    "\n",
    "qa = RetrievalQA.from_chain_type(\n",
    "    llm=OpenAI(), \n",
    "    chain_type=\"stuff\", \n",
    "    retriever=docsearch.as_retriever(),\n",
    "    return_source_documents=True\n",
    ")\n",
    "\n",
    "status_text = widgets.Output()\n",
    "\n",
    "output_text = widgets.Output(\n",
    "    style={'description_width': 'initial', 'font_size': '20px'}\n",
    ")\n",
    "\n",
    "def demo(query):\n",
    "    with status_text:\n",
    "        print(\"thinking...\")\n",
    "\n",
    "    result = qa(\n",
    "        {\n",
    "            \"query\": query['new']\n",
    "        }\n",
    "    )\n",
    "\n",
    "    with output_text:\n",
    "        if result[\"result\"]:\n",
    "            print(result[\"result\"], end=' ')\n",
    "            print(result[\"source_documents\"][0].metadata)\n",
    "        else:\n",
    "            print(\"I'm sorry I don't have any idea about this ask. Try a different question?\")\n",
    "\n",
    "    status_text.clear_output(wait=False)\n",
    "\n",
    "\n",
    "input_text = widgets.Text(\n",
    "    continuous_update=False, \n",
    "    layout=widgets.Layout(width='62%'), placeholder='What do you want to know?',\n",
    "    style={'description_width': 'initial', 'font_size': '24px'}\n",
    ")\n",
    "\n",
    "# Display widget\n",
    "display(input_text, status_text, output_text)\n",
    "\n",
    "input_text.observe(demo, names='value')"
   ]
  }
 ],
 "metadata": {
  "kernelspec": {
   "display_name": "Python 3 (ipykernel)",
   "language": "python",
   "name": "python3"
  },
  "language_info": {
   "codemirror_mode": {
    "name": "ipython",
    "version": 3
   },
   "file_extension": ".py",
   "mimetype": "text/x-python",
   "name": "python",
   "nbconvert_exporter": "python",
   "pygments_lexer": "ipython3",
   "version": "3.11.2"
  }
 },
 "nbformat": 4,
 "nbformat_minor": 2
}
