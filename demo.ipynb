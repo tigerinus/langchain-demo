{
 "cells": [
  {
   "attachments": {},
   "cell_type": "markdown",
   "metadata": {},
   "source": [
    "# requirements"
   ]
  },
  {
   "cell_type": "code",
   "execution_count": 1,
   "metadata": {
    "vscode": {
     "languageId": "shellscript"
    }
   },
   "outputs": [
    {
     "name": "stdout",
     "output_type": "stream",
     "text": [
      "Collecting langchain\n",
      "  Downloading langchain-0.0.161-py3-none-any.whl (758 kB)\n",
      "     ━━━━━━━━━━━━━━━━━━━━━━━━━━━━━━━━━━━━━ 759.0/759.0 KB 352.2 kB/s eta 0:00:00\n",
      "Collecting PyYAML>=5.4.1\n",
      "  Downloading PyYAML-6.0-cp310-cp310-manylinux_2_5_x86_64.manylinux1_x86_64.manylinux_2_12_x86_64.manylinux2010_x86_64.whl (682 kB)\n",
      "     ━━━━━━━━━━━━━━━━━━━━━━━━━━━━━━━━━━━━━━━ 682.2/682.2 KB 2.2 MB/s eta 0:00:00\n",
      "Collecting SQLAlchemy<3,>=1.4\n",
      "  Downloading SQLAlchemy-2.0.12-cp310-cp310-manylinux_2_17_x86_64.manylinux2014_x86_64.whl (2.7 MB)\n",
      "     ━━━━━━━━━━━━━━━━━━━━━━━━━━━━━━━━━━━━━━━━ 2.7/2.7 MB 1.2 MB/s eta 0:00:00\n",
      "Collecting numexpr<3.0.0,>=2.8.4\n",
      "  Downloading numexpr-2.8.4-cp310-cp310-manylinux_2_17_x86_64.manylinux2014_x86_64.whl (381 kB)\n",
      "     ━━━━━━━━━━━━━━━━━━━━━━━━━━━━━━━━━━━━━━━ 381.4/381.4 KB 1.5 MB/s eta 0:00:00\n",
      "Collecting pydantic<2,>=1\n",
      "  Downloading pydantic-1.10.7-cp310-cp310-manylinux_2_17_x86_64.manylinux2014_x86_64.whl (3.1 MB)\n",
      "     ━━━━━━━━━━━━━━━━━━━━━━━━━━━━━━━━━━━━━━━━ 3.1/3.1 MB 762.9 kB/s eta 0:00:00\n",
      "Collecting tqdm>=4.48.0\n",
      "  Downloading tqdm-4.65.0-py3-none-any.whl (77 kB)\n",
      "     ━━━━━━━━━━━━━━━━━━━━━━━━━━━━━━━━━━━━━━━━ 77.1/77.1 KB 1.0 MB/s eta 0:00:00\n",
      "Collecting dataclasses-json<0.6.0,>=0.5.7\n",
      "  Downloading dataclasses_json-0.5.7-py3-none-any.whl (25 kB)\n",
      "Collecting openapi-schema-pydantic<2.0,>=1.2\n",
      "  Downloading openapi_schema_pydantic-1.2.4-py3-none-any.whl (90 kB)\n",
      "     ━━━━━━━━━━━━━━━━━━━━━━━━━━━━━━━━━━━━━━━━ 90.0/90.0 KB 1.2 MB/s eta 0:00:00\n",
      "Collecting requests<3,>=2\n",
      "  Downloading requests-2.30.0-py3-none-any.whl (62 kB)\n",
      "     ━━━━━━━━━━━━━━━━━━━━━━━━━━━━━━━━━━━━━━━ 62.5/62.5 KB 977.4 kB/s eta 0:00:00\n",
      "Collecting async-timeout<5.0.0,>=4.0.0\n",
      "  Using cached async_timeout-4.0.2-py3-none-any.whl (5.8 kB)\n",
      "Collecting tenacity<9.0.0,>=8.1.0\n",
      "  Downloading tenacity-8.2.2-py3-none-any.whl (24 kB)\n",
      "Collecting numpy<2,>=1\n",
      "  Downloading numpy-1.24.3-cp310-cp310-manylinux_2_17_x86_64.manylinux2014_x86_64.whl (17.3 MB)\n",
      "     ━━━━━━━━━━━━━━━━━━━━━━━━━━━━━━━━━━━━━━━━ 17.3/17.3 MB 1.5 MB/s eta 0:00:00\n",
      "Collecting aiohttp<4.0.0,>=3.8.3\n",
      "  Downloading aiohttp-3.8.4-cp310-cp310-manylinux_2_17_x86_64.manylinux2014_x86_64.whl (1.0 MB)\n",
      "     ━━━━━━━━━━━━━━━━━━━━━━━━━━━━━━━━━━━━━━━━ 1.0/1.0 MB 316.6 kB/s eta 0:00:00\n",
      "Collecting charset-normalizer<4.0,>=2.0\n",
      "  Downloading charset_normalizer-3.1.0-cp310-cp310-manylinux_2_17_x86_64.manylinux2014_x86_64.whl (199 kB)\n",
      "     ━━━━━━━━━━━━━━━━━━━━━━━━━━━━━━━━━━━━━━━ 199.3/199.3 KB 1.6 MB/s eta 0:00:00\n",
      "Collecting aiosignal>=1.1.2\n",
      "  Using cached aiosignal-1.3.1-py3-none-any.whl (7.6 kB)\n",
      "Collecting yarl<2.0,>=1.0\n",
      "  Downloading yarl-1.9.2-cp310-cp310-manylinux_2_17_x86_64.manylinux2014_x86_64.whl (268 kB)\n",
      "     ━━━━━━━━━━━━━━━━━━━━━━━━━━━━━━━━━━━━━━━ 268.8/268.8 KB 1.5 MB/s eta 0:00:00\n",
      "Collecting multidict<7.0,>=4.5\n",
      "  Using cached multidict-6.0.4-cp310-cp310-manylinux_2_17_x86_64.manylinux2014_x86_64.whl (114 kB)\n",
      "Collecting attrs>=17.3.0\n",
      "  Downloading attrs-23.1.0-py3-none-any.whl (61 kB)\n",
      "     ━━━━━━━━━━━━━━━━━━━━━━━━━━━━━━━━━━━━━━━ 61.2/61.2 KB 818.3 kB/s eta 0:00:00\n",
      "Collecting frozenlist>=1.1.1\n",
      "  Using cached frozenlist-1.3.3-cp310-cp310-manylinux_2_5_x86_64.manylinux1_x86_64.manylinux_2_17_x86_64.manylinux2014_x86_64.whl (149 kB)\n",
      "Collecting marshmallow-enum<2.0.0,>=1.5.1\n",
      "  Downloading marshmallow_enum-1.5.1-py2.py3-none-any.whl (4.2 kB)\n",
      "Collecting marshmallow<4.0.0,>=3.3.0\n",
      "  Downloading marshmallow-3.19.0-py3-none-any.whl (49 kB)\n",
      "     ━━━━━━━━━━━━━━━━━━━━━━━━━━━━━━━━━━━━━━━ 49.1/49.1 KB 613.2 kB/s eta 0:00:00\n",
      "Collecting typing-inspect>=0.4.0\n",
      "  Downloading typing_inspect-0.8.0-py3-none-any.whl (8.7 kB)\n",
      "Collecting typing-extensions>=4.2.0\n",
      "  Downloading typing_extensions-4.5.0-py3-none-any.whl (27 kB)\n",
      "Collecting certifi>=2017.4.17\n",
      "  Downloading certifi-2023.5.7-py3-none-any.whl (156 kB)\n",
      "     ━━━━━━━━━━━━━━━━━━━━━━━━━━━━━━━━━━━━━ 157.0/157.0 KB 171.1 kB/s eta 0:00:00\n",
      "Collecting idna<4,>=2.5\n",
      "  Using cached idna-3.4-py3-none-any.whl (61 kB)\n",
      "Collecting urllib3<3,>=1.21.1\n",
      "  Downloading urllib3-2.0.2-py3-none-any.whl (123 kB)\n",
      "     ━━━━━━━━━━━━━━━━━━━━━━━━━━━━━━━━━━━━━ 123.2/123.2 KB 135.4 kB/s eta 0:00:00\n",
      "Collecting greenlet!=0.4.17\n",
      "  Downloading greenlet-2.0.2-cp310-cp310-manylinux_2_17_x86_64.manylinux2014_x86_64.whl (613 kB)\n",
      "     ━━━━━━━━━━━━━━━━━━━━━━━━━━━━━━━━━━━━━━━ 613.7/613.7 KB 1.3 MB/s eta 0:00:00\n",
      "Requirement already satisfied: packaging>=17.0 in ./venv/lib/python3.10/site-packages (from marshmallow<4.0.0,>=3.3.0->dataclasses-json<0.6.0,>=0.5.7->langchain) (23.1)\n",
      "Collecting mypy-extensions>=0.3.0\n",
      "  Downloading mypy_extensions-1.0.0-py3-none-any.whl (4.7 kB)\n",
      "Installing collected packages: urllib3, typing-extensions, tqdm, tenacity, PyYAML, numpy, mypy-extensions, multidict, marshmallow, idna, greenlet, frozenlist, charset-normalizer, certifi, attrs, async-timeout, yarl, typing-inspect, SQLAlchemy, requests, pydantic, numexpr, marshmallow-enum, aiosignal, openapi-schema-pydantic, dataclasses-json, aiohttp, langchain\n",
      "Successfully installed PyYAML-6.0 SQLAlchemy-2.0.12 aiohttp-3.8.4 aiosignal-1.3.1 async-timeout-4.0.2 attrs-23.1.0 certifi-2023.5.7 charset-normalizer-3.1.0 dataclasses-json-0.5.7 frozenlist-1.3.3 greenlet-2.0.2 idna-3.4 langchain-0.0.161 marshmallow-3.19.0 marshmallow-enum-1.5.1 multidict-6.0.4 mypy-extensions-1.0.0 numexpr-2.8.4 numpy-1.24.3 openapi-schema-pydantic-1.2.4 pydantic-1.10.7 requests-2.30.0 tenacity-8.2.2 tqdm-4.65.0 typing-extensions-4.5.0 typing-inspect-0.8.0 urllib3-2.0.2 yarl-1.9.2\n",
      "Collecting openai\n",
      "  Downloading openai-0.27.6-py3-none-any.whl (71 kB)\n",
      "     ━━━━━━━━━━━━━━━━━━━━━━━━━━━━━━━━━━━━━━━ 71.9/71.9 KB 851.9 kB/s eta 0:00:00\n",
      "Requirement already satisfied: requests>=2.20 in ./venv/lib/python3.10/site-packages (from openai) (2.30.0)\n",
      "Requirement already satisfied: tqdm in ./venv/lib/python3.10/site-packages (from openai) (4.65.0)\n",
      "Requirement already satisfied: aiohttp in ./venv/lib/python3.10/site-packages (from openai) (3.8.4)\n",
      "Requirement already satisfied: charset-normalizer<4,>=2 in ./venv/lib/python3.10/site-packages (from requests>=2.20->openai) (3.1.0)\n",
      "Requirement already satisfied: idna<4,>=2.5 in ./venv/lib/python3.10/site-packages (from requests>=2.20->openai) (3.4)\n",
      "Requirement already satisfied: urllib3<3,>=1.21.1 in ./venv/lib/python3.10/site-packages (from requests>=2.20->openai) (2.0.2)\n",
      "Requirement already satisfied: certifi>=2017.4.17 in ./venv/lib/python3.10/site-packages (from requests>=2.20->openai) (2023.5.7)\n",
      "Requirement already satisfied: multidict<7.0,>=4.5 in ./venv/lib/python3.10/site-packages (from aiohttp->openai) (6.0.4)\n",
      "Requirement already satisfied: frozenlist>=1.1.1 in ./venv/lib/python3.10/site-packages (from aiohttp->openai) (1.3.3)\n",
      "Requirement already satisfied: attrs>=17.3.0 in ./venv/lib/python3.10/site-packages (from aiohttp->openai) (23.1.0)\n",
      "Requirement already satisfied: async-timeout<5.0,>=4.0.0a3 in ./venv/lib/python3.10/site-packages (from aiohttp->openai) (4.0.2)\n",
      "Requirement already satisfied: yarl<2.0,>=1.0 in ./venv/lib/python3.10/site-packages (from aiohttp->openai) (1.9.2)\n",
      "Requirement already satisfied: aiosignal>=1.1.2 in ./venv/lib/python3.10/site-packages (from aiohttp->openai) (1.3.1)\n",
      "Installing collected packages: openai\n",
      "Successfully installed openai-0.27.6\n",
      "Collecting python-dotenv\n",
      "  Downloading python_dotenv-1.0.0-py3-none-any.whl (19 kB)\n",
      "Installing collected packages: python-dotenv\n",
      "Successfully installed python-dotenv-1.0.0\n",
      "Collecting redis\n",
      "  Downloading redis-4.5.4-py3-none-any.whl (238 kB)\n",
      "     ━━━━━━━━━━━━━━━━━━━━━━━━━━━━━━━━━━━━━━━ 238.9/238.9 KB 1.1 MB/s eta 0:00:00\n",
      "Requirement already satisfied: async-timeout>=4.0.2 in ./venv/lib/python3.10/site-packages (from redis) (4.0.2)\n",
      "Installing collected packages: redis\n",
      "Successfully installed redis-4.5.4\n",
      "Requirement already satisfied: requests in ./venv/lib/python3.10/site-packages (2.30.0)\n",
      "Requirement already satisfied: charset-normalizer<4,>=2 in ./venv/lib/python3.10/site-packages (from requests) (3.1.0)\n",
      "Requirement already satisfied: certifi>=2017.4.17 in ./venv/lib/python3.10/site-packages (from requests) (2023.5.7)\n",
      "Requirement already satisfied: urllib3<3,>=1.21.1 in ./venv/lib/python3.10/site-packages (from requests) (2.0.2)\n",
      "Requirement already satisfied: idna<4,>=2.5 in ./venv/lib/python3.10/site-packages (from requests) (3.4)\n",
      "Collecting tiktoken\n",
      "  Downloading tiktoken-0.3.3-cp310-cp310-manylinux_2_17_x86_64.manylinux2014_x86_64.whl (1.7 MB)\n",
      "     ━━━━━━━━━━━━━━━━━━━━━━━━━━━━━━━━━━━━━━━━ 1.7/1.7 MB 1.1 MB/s eta 0:00:00\n",
      "Collecting regex>=2022.1.18\n",
      "  Downloading regex-2023.5.5-cp310-cp310-manylinux_2_17_x86_64.manylinux2014_x86_64.whl (769 kB)\n",
      "     ━━━━━━━━━━━━━━━━━━━━━━━━━━━━━━━━━━━━━━━ 769.7/769.7 KB 1.0 MB/s eta 0:00:00\n",
      "Requirement already satisfied: requests>=2.26.0 in ./venv/lib/python3.10/site-packages (from tiktoken) (2.30.0)\n",
      "Requirement already satisfied: charset-normalizer<4,>=2 in ./venv/lib/python3.10/site-packages (from requests>=2.26.0->tiktoken) (3.1.0)\n",
      "Requirement already satisfied: idna<4,>=2.5 in ./venv/lib/python3.10/site-packages (from requests>=2.26.0->tiktoken) (3.4)\n",
      "Requirement already satisfied: urllib3<3,>=1.21.1 in ./venv/lib/python3.10/site-packages (from requests>=2.26.0->tiktoken) (2.0.2)\n",
      "Requirement already satisfied: certifi>=2017.4.17 in ./venv/lib/python3.10/site-packages (from requests>=2.26.0->tiktoken) (2023.5.7)\n",
      "Installing collected packages: regex, tiktoken\n",
      "Successfully installed regex-2023.5.5 tiktoken-0.3.3\n"
     ]
    }
   ],
   "source": [
    "%%sh\n",
    "pip install --upgrade langchain\n",
    "pip install --upgrade openai\n",
    "pip install --upgrade python-dotenv\n",
    "pip install --upgrade redis\n",
    "pip install --upgrade requests\n",
    "pip install --upgrade tiktoken"
   ]
  },
  {
   "attachments": {},
   "cell_type": "markdown",
   "metadata": {},
   "source": [
    "# environment"
   ]
  },
  {
   "cell_type": "code",
   "execution_count": 2,
   "metadata": {
    "vscode": {
     "languageId": "shellscript"
    }
   },
   "outputs": [
    {
     "name": "stderr",
     "output_type": "stream",
     "text": [
      "Error response from daemon: No such container: redis\n",
      "Unable to find image 'redis/redis-stack:latest' locally\n",
      "latest: Pulling from redis/redis-stack\n",
      "ca1778b69356: Pulling fs layer\n",
      "518777ca318a: Pulling fs layer\n",
      "4f4fb700ef54: Pulling fs layer\n",
      "f3214da40ad6: Pulling fs layer\n",
      "4cf419baf0fd: Pulling fs layer\n",
      "f3214da40ad6: Waiting\n",
      "6f8031a5cee9: Pulling fs layer\n",
      "4cf419baf0fd: Waiting\n",
      "33f7730dff5d: Pulling fs layer\n",
      "6f8031a5cee9: Waiting\n",
      "33f7730dff5d: Waiting\n",
      "ae439f3bd24e: Pulling fs layer\n",
      "0051d2b6e334: Pulling fs layer\n",
      "1bb975664fd4: Pulling fs layer\n",
      "6b38923421ac: Pulling fs layer\n",
      "6dece0c7252b: Pulling fs layer\n",
      "ae439f3bd24e: Waiting\n",
      "e3de16b18118: Pulling fs layer\n",
      "0051d2b6e334: Waiting\n",
      "6dece0c7252b: Waiting\n",
      "8222ec87331e: Pulling fs layer\n",
      "8f6dbd1e47fa: Pulling fs layer\n",
      "24fdcd115c41: Pulling fs layer\n",
      "8222ec87331e: Waiting\n",
      "1bb975664fd4: Waiting\n",
      "e3de16b18118: Waiting\n",
      "6b38923421ac: Waiting\n",
      "8f6dbd1e47fa: Waiting\n",
      "24fdcd115c41: Waiting\n",
      "4f4fb700ef54: Verifying Checksum\n",
      "4f4fb700ef54: Download complete\n",
      "f3214da40ad6: Verifying Checksum\n",
      "f3214da40ad6: Download complete\n",
      "4cf419baf0fd: Verifying Checksum\n",
      "4cf419baf0fd: Download complete\n",
      "518777ca318a: Download complete\n",
      "ca1778b69356: Download complete\n",
      "33f7730dff5d: Verifying Checksum\n",
      "33f7730dff5d: Download complete\n",
      "ae439f3bd24e: Verifying Checksum\n",
      "ae439f3bd24e: Download complete\n",
      "ca1778b69356: Pull complete\n",
      "518777ca318a: Pull complete\n",
      "4f4fb700ef54: Pull complete\n",
      "f3214da40ad6: Pull complete\n",
      "4cf419baf0fd: Pull complete\n",
      "0051d2b6e334: Verifying Checksum\n",
      "0051d2b6e334: Download complete\n",
      "1bb975664fd4: Verifying Checksum\n",
      "1bb975664fd4: Download complete\n",
      "6dece0c7252b: Download complete\n",
      "e3de16b18118: Download complete\n",
      "8222ec87331e: Verifying Checksum\n",
      "8222ec87331e: Download complete\n",
      "8f6dbd1e47fa: Download complete\n",
      "24fdcd115c41: Verifying Checksum\n",
      "24fdcd115c41: Download complete\n",
      "6b38923421ac: Retrying in 5 seconds\n",
      "6b38923421ac: Retrying in 4 seconds\n",
      "6b38923421ac: Retrying in 3 seconds\n",
      "6b38923421ac: Retrying in 2 seconds\n",
      "6b38923421ac: Retrying in 1 second\n",
      "6b38923421ac: Verifying Checksum\n",
      "6b38923421ac: Download complete\n",
      "6f8031a5cee9: Retrying in 5 seconds\n",
      "6f8031a5cee9: Retrying in 4 seconds\n",
      "6f8031a5cee9: Retrying in 3 seconds\n",
      "6f8031a5cee9: Retrying in 2 seconds\n",
      "6f8031a5cee9: Retrying in 1 second\n",
      "6f8031a5cee9: Verifying Checksum\n",
      "6f8031a5cee9: Download complete\n",
      "6f8031a5cee9: Pull complete\n",
      "33f7730dff5d: Pull complete\n",
      "ae439f3bd24e: Pull complete\n",
      "0051d2b6e334: Pull complete\n",
      "1bb975664fd4: Pull complete\n",
      "6b38923421ac: Pull complete\n",
      "6dece0c7252b: Pull complete\n",
      "e3de16b18118: Pull complete\n",
      "8222ec87331e: Pull complete\n",
      "8f6dbd1e47fa: Pull complete\n",
      "24fdcd115c41: Pull complete\n",
      "Digest: sha256:f32efb09d1e4f87997470efb444e8810788a5c558900a80ee562f2be5d64b481\n",
      "Status: Downloaded newer image for redis/redis-stack:latest\n"
     ]
    },
    {
     "name": "stdout",
     "output_type": "stream",
     "text": [
      "4e0cdde306c6f021fe29dd1e1ce8e8dd3a2e879d886ce56f495163b50ec46ace\n"
     ]
    }
   ],
   "source": [
    "%%sh\n",
    "docker exec redis uname || docker run --rm --name redis -d -p 13333:8001 -p 10001:6379 redis/redis-stack:latest"
   ]
  },
  {
   "attachments": {},
   "cell_type": "markdown",
   "metadata": {},
   "source": [
    "# imports"
   ]
  },
  {
   "cell_type": "code",
   "execution_count": 3,
   "metadata": {},
   "outputs": [],
   "source": [
    "from dotenv import load_dotenv\n",
    "from langchain.docstore.document import Document\n",
    "from langchain.embeddings import OpenAIEmbeddings\n",
    "from langchain.text_splitter import MarkdownTextSplitter\n",
    "from langchain.vectorstores.redis import Redis\n",
    "import os\n"
   ]
  },
  {
   "attachments": {},
   "cell_type": "markdown",
   "metadata": {},
   "source": [
    "# vectorization"
   ]
  },
  {
   "cell_type": "code",
   "execution_count": 4,
   "metadata": {},
   "outputs": [
    {
     "name": "stdout",
     "output_type": "stream",
     "text": [
      "./content/troubleshooting.md\n",
      "./content/home.md\n",
      "./content/user-pages.md\n",
      "./content/apps.html\n",
      "./content/guides.md\n",
      "./content/get-started.md\n",
      "./content/contribute.md\n",
      "./content/contribute/alpha.md\n",
      "./content/contribute/wiki-editing-guidelines.md\n",
      "./content/contribute/development.md\n",
      "./content/troubleshooting/appstore-does-not-load.md\n",
      "./content/guides/running-casaos-on-windows-with-wsl2.md\n",
      "./content/guides/move-docker-images-and-volumes-to-a-diffferent-storage.md\n",
      "./content/user-pages/tigerinus.md\n",
      "./content/zh/troubleshooting.md\n",
      "./content/zh/apps.md\n",
      "./content/zh/home.md\n",
      "./content/zh/user-pages.md\n",
      "./content/zh/guides.md\n",
      "./content/zh/get-started.md\n",
      "./content/zh/contribute.md\n",
      "./content/zh/contribute/development.md\n",
      "./content/apps/jellyfin.html\n",
      "./content/appfile/jellyfin.json\n"
     ]
    }
   ],
   "source": [
    "load_dotenv()\n",
    "embeddings = OpenAIEmbeddings()\n",
    "\n",
    "index_name = \"demo\"\n",
    "Redis.drop_index(index_name=index_name, delete_documents=True)\n",
    "\n",
    "text_splitter = MarkdownTextSplitter(chunk_size=1000, chunk_overlap=100)\n",
    "# traverse the ./content directory recursively and load each file that contains plain text\n",
    "\n",
    "docs = []\n",
    "for root, _, files in os.walk(\"./content\"):\n",
    "    for file in files:\n",
    "        if file.endswith(\".md\") or file.endswith(\".html\") or file.endswith(\".json\"):\n",
    "            filepath = os.path.join(root, file)\n",
    "            print(filepath)\n",
    "            with open(filepath, \"r\") as f:\n",
    "                text = f.read()\n",
    "                metadata={'source': filepath}\n",
    "                doc = Document(page_content=text, metadata=metadata)\n",
    "                split_docs = text_splitter.split_documents([doc])\n",
    "                docs.extend(split_docs)\n",
    "\n",
    "rds = Redis.from_documents(docs, embeddings, index_name=index_name)\n"
   ]
  },
  {
   "attachments": {},
   "cell_type": "markdown",
   "metadata": {},
   "source": [
    "# recommendation"
   ]
  },
  {
   "cell_type": "code",
   "execution_count": 6,
   "metadata": {},
   "outputs": [
    {
     "name": "stdout",
     "output_type": "stream",
     "text": [
      "{'source': './content/guides/move-docker-images-and-volumes-to-a-diffferent-storage.md'}\n",
      "{'source': './content/guides/move-docker-images-and-volumes-to-a-diffferent-storage.md'}\n",
      "{'source': './content/guides/move-docker-images-and-volumes-to-a-diffferent-storage.md'}\n",
      "{'source': './content/guides/move-docker-images-and-volumes-to-a-diffferent-storage.md'}\n"
     ]
    }
   ],
   "source": [
    "query = \"move docker image to another host\"\n",
    "for doc in rds.similarity_search(query):\n",
    "    print(doc.metadata)\n",
    "    #print(doc.page_content)"
   ]
  },
  {
   "attachments": {},
   "cell_type": "markdown",
   "metadata": {},
   "source": [
    "# QA bot"
   ]
  },
  {
   "cell_type": "code",
   "execution_count": 7,
   "metadata": {},
   "outputs": [],
   "source": [
    "from langchain.chains import RetrievalQA\n",
    "from langchain.llms import OpenAI\n",
    "\n",
    "qa = RetrievalQA.from_chain_type(\n",
    "    llm=OpenAI(), \n",
    "    chain_type=\"stuff\", \n",
    "    retriever=rds.as_retriever(),\n",
    "    return_source_documents=True\n",
    ")"
   ]
  },
  {
   "cell_type": "code",
   "execution_count": 9,
   "metadata": {},
   "outputs": [
    {
     "name": "stdout",
     "output_type": "stream",
     "text": [
      " You should read the prerequisites for coding on the 'Development' page before submitting your contribution. You should be familiar with Golang and shell scripting for backend development, or Vue.js for frontend development. You should also be familiar with Git and the whole pull request (PR) process on GitHub.\n",
      "\n",
      "{'source': './content/contribute.md'}\n"
     ]
    }
   ],
   "source": [
    "result = qa(\n",
    "    {\n",
    "        \"query\": \"I want to contribute to CasaOS as a developer. How should I get started?\",\n",
    "    }\n",
    ")\n",
    "\n",
    "print(result[\"result\"])\n",
    "print(\"\")\n",
    "print(result[\"source_documents\"][0].metadata)"
   ]
  }
 ],
 "metadata": {
  "kernelspec": {
   "display_name": "venv",
   "language": "python",
   "name": "python3"
  },
  "language_info": {
   "codemirror_mode": {
    "name": "ipython",
    "version": 3
   },
   "file_extension": ".py",
   "mimetype": "text/x-python",
   "name": "python",
   "nbconvert_exporter": "python",
   "pygments_lexer": "ipython3",
   "version": "3.10.6"
  },
  "orig_nbformat": 4
 },
 "nbformat": 4,
 "nbformat_minor": 2
}
