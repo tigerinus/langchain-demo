{
 "cells": [
  {
   "attachments": {},
   "cell_type": "markdown",
   "metadata": {},
   "source": [
    "# CasaOS Spotlight Indexer\n",
    "\n",
    "[test](localhost:8888)"
   ]
  },
  {
   "cell_type": "code",
   "execution_count": 4,
   "metadata": {},
   "outputs": [
    {
     "data": {
      "application/vnd.jupyter.widget-view+json": {
       "model_id": "546e436909354ad0bcd38b932dab8f78",
       "version_major": 2,
       "version_minor": 0
      },
      "text/plain": [
       "Button(description='Index Documents', icon='check', style=ButtonStyle())"
      ]
     },
     "metadata": {},
     "output_type": "display_data"
    },
    {
     "data": {
      "application/vnd.jupyter.widget-view+json": {
       "model_id": "7b08719a43f74fab99d9164aba0ceb29",
       "version_major": 2,
       "version_minor": 0
      },
      "text/plain": [
       "Output()"
      ]
     },
     "metadata": {},
     "output_type": "display_data"
    }
   ],
   "source": [
    "# imports\n",
    "\n",
    "from dotenv import load_dotenv\n",
    "from IPython.display import display\n",
    "from langchain.docstore.document import Document\n",
    "from langchain.embeddings import OpenAIEmbeddings\n",
    "from langchain.text_splitter import MarkdownTextSplitter\n",
    "from langchain.vectorstores import Pinecone\n",
    "import ipywidgets as widgets\n",
    "import os\n",
    "import pinecone\n",
    "\n",
    "load_dotenv()\n",
    "\n",
    "pinecone.init(api_key=os.environ[\"PINECONE_API_KEY\"], environment=os.environ[\"PINECONE_ENV\"])\n",
    "\n",
    "embeddings = OpenAIEmbeddings()\n",
    "\n",
    "output_text = widgets.Output()\n",
    "\n",
    "def index():\n",
    "    index_name = \"langchain-demo\"\n",
    "\n",
    "    index = pinecone.Index(index_name=index_name)\n",
    "    index.delete(delete_all=True)\n",
    "\n",
    "    docsearch = Pinecone.from_existing_index(index_name=index_name, embedding=embeddings)\n",
    "\n",
    "    text_splitter = MarkdownTextSplitter(chunk_size=1000, chunk_overlap=100)\n",
    "    # traverse the ./content directory recursively and load each file that contains plain text\n",
    "\n",
    "    docs = []\n",
    "    count = 0\n",
    "    for root, _, files in os.walk(\"./content\"):\n",
    "        for file in files:\n",
    "            with output_text:\n",
    "                print(f\"{root}/{file}\")\n",
    "\n",
    "            if file.endswith(\".txt\") or file.endswith(\".md\"):\n",
    "                filepath = os.path.join(root, file)\n",
    "                count += 1\n",
    "                with open(filepath, \"r\") as f:\n",
    "                    text = f.read()\n",
    "                    metadata={'source': filepath}\n",
    "                    doc = Document(page_content=text, metadata=metadata)\n",
    "                    split_docs = text_splitter.split_documents([doc])\n",
    "                    docs.extend(split_docs)\n",
    "\n",
    "    docsearch.add_documents(docs)\n",
    "\n",
    "    print(f\"{count} documents indexed\")\n",
    "\n",
    "button = widgets.Button(\n",
    "    description=\"Index Documents\",\n",
    "    icon=\"check\",\n",
    ")\n",
    "\n",
    "button.on_click(lambda _: index())\n",
    "\n",
    "display(button, output_text)"
   ]
  }
 ],
 "metadata": {
  "kernelspec": {
   "display_name": "Python 3 (ipykernel)",
   "language": "python",
   "name": "python3"
  },
  "language_info": {
   "codemirror_mode": {
    "name": "ipython",
    "version": 3
   },
   "file_extension": ".py",
   "mimetype": "text/x-python",
   "name": "python",
   "nbconvert_exporter": "python",
   "pygments_lexer": "ipython3",
   "version": "3.11.2"
  }
 },
 "nbformat": 4,
 "nbformat_minor": 2
}
